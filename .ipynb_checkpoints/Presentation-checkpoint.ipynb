{
 "cells": [
  {
   "cell_type": "markdown",
   "metadata": {
    "slideshow": {
     "slide_type": "slide"
    }
   },
   "source": [
    "# Sentiment Analysis, Twitter, and Donald Trump\n",
    "Kenia Pina Sanchez and Victoria Lam  \n",
    "COMP 578 Data Mining"
   ]
  },
  {
   "cell_type": "markdown",
   "metadata": {
    "slideshow": {
     "slide_type": "slide"
    }
   },
   "source": [
    "## Table of Contents\n",
    "\n",
    "* Project proposal\n",
    "* Dataset\n",
    "* Analysis tools\n",
    "* Analysis"
   ]
  },
  {
   "cell_type": "markdown",
   "metadata": {
    "slideshow": {
     "slide_type": "subslide"
    }
   },
   "source": [
    "## Project Proposal"
   ]
  },
  {
   "cell_type": "markdown",
   "metadata": {
    "slideshow": {
     "slide_type": "subslide"
    }
   },
   "source": [
    "<!--- Insert a COVID-19 image here --->"
   ]
  },
  {
   "cell_type": "markdown",
   "metadata": {
    "slideshow": {
     "slide_type": "notes"
    }
   },
   "source": [
    "In just a few months, COVID-19 became a pandemic that set the world on its heels. Nations scrambled to coordinate an effective response as COVID-19 spread indiscriminately. Donald Trump, whose presidency of the United States has been characterized with inaccurate statements and incohesive positions on a variety of pertinent issues such as healthcare, worker protections, and social safety nets, has tweeted extensively about the progression of theCOVID-19 pandemic, sometimes contradicting his own tweets later in the day.\n",
    "\n",
    "We examine how his growing concern for COVID-19 affects his position on key issues pertaining to the coming election, such as the health of theeconomy, public perception of himself, and the medical response of key voter states.\n",
    "\n",
    "This project is therefore a classification problem which gives insight intothe confidences and concerns, and thus the motivations for his actions, of the president as he prepares for the upcoming election."
   ]
  },
  {
   "cell_type": "markdown",
   "metadata": {
    "slideshow": {
     "slide_type": "slide"
    }
   },
   "source": [
    "## Dataset"
   ]
  },
  {
   "cell_type": "code",
   "execution_count": null,
   "metadata": {
    "slideshow": {
     "slide_type": "skip"
    }
   },
   "outputs": [],
   "source": [
    "trumpTweets <- read.csv()"
   ]
  }
 ],
 "metadata": {
  "celltoolbar": "Slideshow",
  "kernelspec": {
   "display_name": "R",
   "language": "R",
   "name": "ir"
  },
  "language_info": {
   "codemirror_mode": "r",
   "file_extension": ".r",
   "mimetype": "text/x-r-source",
   "name": "R",
   "pygments_lexer": "r",
   "version": "3.6.3"
  }
 },
 "nbformat": 4,
 "nbformat_minor": 4
}
