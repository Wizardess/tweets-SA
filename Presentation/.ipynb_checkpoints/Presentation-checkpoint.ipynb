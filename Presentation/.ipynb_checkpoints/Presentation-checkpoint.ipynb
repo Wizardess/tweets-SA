{
 "cells": [
  {
   "cell_type": "markdown",
   "metadata": {
    "slideshow": {
     "slide_type": "slide"
    }
   },
   "source": [
    "# Sentiment Analysis, Twitter, and Donald Trump\n",
    "Kenia Pina Sanchez and Victoria Lam  \n",
    "COMP 578 Data Mining"
   ]
  },
  {
   "cell_type": "markdown",
   "metadata": {
    "slideshow": {
     "slide_type": "slide"
    }
   },
   "source": [
    "## Table of Contents\n",
    "\n",
    "* Project proposal\n",
    "* Dataset\n",
    "* Analysis tools\n",
    "* Analysis"
   ]
  },
  {
   "cell_type": "markdown",
   "metadata": {
    "slideshow": {
     "slide_type": "subslide"
    }
   },
   "source": [
    "## Project Proposal"
   ]
  },
  {
   "cell_type": "markdown",
   "metadata": {
    "slideshow": {
     "slide_type": "subslide"
    }
   },
   "source": [
    "<!--- Insert a COVID-19 image here --->"
   ]
  },
  {
   "cell_type": "markdown",
   "metadata": {
    "slideshow": {
     "slide_type": "notes"
    }
   },
   "source": [
    "In just a few months, COVID-19 became a pandemic that set the world on its heels. Nations scrambled to coordinate an effective response as COVID-19 spread indiscriminately. Donald Trump, whose presidency of the United States has been characterized with inaccurate statements and incohesive positions on a variety of pertinent issues such as healthcare, worker protections, and social safety nets, has tweeted extensively about the progression of theCOVID-19 pandemic, sometimes contradicting his own tweets later in the day.\n",
    "\n",
    "We examine how his growing concern for COVID-19 affects his position on key issues pertaining to the coming election, such as the health of theeconomy, public perception of himself, and the medical response of key voter states.\n",
    "\n",
    "This project is therefore a classification problem which gives insight intothe confidences and concerns, and thus the motivations for his actions, of the president as he prepares for the upcoming election."
   ]
  },
  {
   "cell_type": "markdown",
   "metadata": {
    "slideshow": {
     "slide_type": "slide"
    }
   },
   "source": [
    "## Dataset"
   ]
  },
  {
   "cell_type": "markdown",
   "metadata": {
    "slideshow": {
     "slide_type": "subslide"
    }
   },
   "source": [
    "We scraped twitter for tweets from Donald Trump over a period of January 01, 2020 to April 12, 2020. These tweets and the associated UTC datetime are stored as a .csv file called `trumpTweets.csv`."
   ]
  },
  {
   "cell_type": "code",
   "execution_count": 5,
   "metadata": {
    "slideshow": {
     "slide_type": "skip"
    }
   },
   "outputs": [],
   "source": [
    "library(tidyverse)\n",
    "library(tidytext)\n",
    "library(glue)\n",
    "library(stringr)"
   ]
  },
  {
   "cell_type": "code",
   "execution_count": 6,
   "metadata": {
    "slideshow": {
     "slide_type": "fragment"
    }
   },
   "outputs": [
    {
     "data": {
      "text/html": [
       "<table>\n",
       "<caption>A data.frame: 6 × 3</caption>\n",
       "<thead>\n",
       "\t<tr><th></th><th scope=col>X</th><th scope=col>DateTime</th><th scope=col>Text</th></tr>\n",
       "\t<tr><th></th><th scope=col>&lt;int&gt;</th><th scope=col>&lt;fct&gt;</th><th scope=col>&lt;fct&gt;</th></tr>\n",
       "</thead>\n",
       "<tbody>\n",
       "\t<tr><th scope=row>1</th><td>0</td><td>2020-04-11 23:51:58+00:00</td><td>Will be interviewed by @JudgeJeanine tonight at 9:00 P.M. Eastern on @FoxNews!                                                                                                                                                                                                             </td></tr>\n",
       "\t<tr><th scope=row>2</th><td>1</td><td>2020-04-11 23:34:58+00:00</td><td>So now the Fake News @nytimes is tracing the CoronaVirus origins back to Europe, NOT China. This is a first! I wonder what the Failing New York Times got for this one? Are there any NAMED sources? They were recently thrown out of China like dogs, and obviously want back in. Sad!    </td></tr>\n",
       "\t<tr><th scope=row>3</th><td>2</td><td>2020-04-11 23:28:18+00:00</td><td>Governor @GavinNewsom of California has been very nice &amp;amp; highly supportive about the great job we have done, working together, for California. That is the good news, but this is the bad. He is unfairly under attack by the Radical Left Dems, MSDNC etc. He is strong! Will he fold?</td></tr>\n",
       "\t<tr><th scope=row>4</th><td>3</td><td>2020-04-11 22:38:29+00:00</td><td>I will be watching. HAVE A GREAT EASTER!                                                                                                                                                                                                                                                   </td></tr>\n",
       "\t<tr><th scope=row>5</th><td>4</td><td>2020-04-11 22:35:35+00:00</td><td><span style=white-space:pre-wrap>The Wall Street Journal Editorial Board doesn’t have a clue on how to fight and win. Their views on Tariffs &amp; Trade are losers for the U.S., but winners for other countries, including China. If we followed their standards, we’d have no Country left. They should love Sleepy Joe!     </span></td></tr>\n",
       "\t<tr><th scope=row>6</th><td>5</td><td>2020-04-11 21:53:36+00:00</td><td>Watching @FoxNews on weekend afternoons is a total waste of time. We now have some great alternatives, like @OANN.                                                                                                                                                                         </td></tr>\n",
       "</tbody>\n",
       "</table>\n"
      ],
      "text/latex": [
       "A data.frame: 6 × 3\n",
       "\\begin{tabular}{r|lll}\n",
       "  & X & DateTime & Text\\\\\n",
       "  & <int> & <fct> & <fct>\\\\\n",
       "\\hline\n",
       "\t1 & 0 & 2020-04-11 23:51:58+00:00 & Will be interviewed by @JudgeJeanine tonight at 9:00 P.M. Eastern on @FoxNews!                                                                                                                                                                                                             \\\\\n",
       "\t2 & 1 & 2020-04-11 23:34:58+00:00 & So now the Fake News @nytimes is tracing the CoronaVirus origins back to Europe, NOT China. This is a first! I wonder what the Failing New York Times got for this one? Are there any NAMED sources? They were recently thrown out of China like dogs, and obviously want back in. Sad!    \\\\\n",
       "\t3 & 2 & 2020-04-11 23:28:18+00:00 & Governor @GavinNewsom of California has been very nice \\&amp; highly supportive about the great job we have done, working together, for California. That is the good news, but this is the bad. He is unfairly under attack by the Radical Left Dems, MSDNC etc. He is strong! Will he fold?\\\\\n",
       "\t4 & 3 & 2020-04-11 22:38:29+00:00 & I will be watching. HAVE A GREAT EASTER!                                                                                                                                                                                                                                                   \\\\\n",
       "\t5 & 4 & 2020-04-11 22:35:35+00:00 & The Wall Street Journal Editorial Board doesn’t have a clue on how to fight and win. Their views on Tariffs \\& Trade are losers for the U.S., but winners for other countries, including China. If we followed their standards, we’d have no Country left. They should love Sleepy Joe!     \\\\\n",
       "\t6 & 5 & 2020-04-11 21:53:36+00:00 & Watching @FoxNews on weekend afternoons is a total waste of time. We now have some great alternatives, like @OANN.                                                                                                                                                                         \\\\\n",
       "\\end{tabular}\n"
      ],
      "text/markdown": [
       "\n",
       "A data.frame: 6 × 3\n",
       "\n",
       "| <!--/--> | X &lt;int&gt; | DateTime &lt;fct&gt; | Text &lt;fct&gt; |\n",
       "|---|---|---|---|\n",
       "| 1 | 0 | 2020-04-11 23:51:58+00:00 | Will be interviewed by @JudgeJeanine tonight at 9:00 P.M. Eastern on @FoxNews!                                                                                                                                                                                                              |\n",
       "| 2 | 1 | 2020-04-11 23:34:58+00:00 | So now the Fake News @nytimes is tracing the CoronaVirus origins back to Europe, NOT China. This is a first! I wonder what the Failing New York Times got for this one? Are there any NAMED sources? They were recently thrown out of China like dogs, and obviously want back in. Sad!     |\n",
       "| 3 | 2 | 2020-04-11 23:28:18+00:00 | Governor @GavinNewsom of California has been very nice &amp;amp; highly supportive about the great job we have done, working together, for California. That is the good news, but this is the bad. He is unfairly under attack by the Radical Left Dems, MSDNC etc. He is strong! Will he fold? |\n",
       "| 4 | 3 | 2020-04-11 22:38:29+00:00 | I will be watching. HAVE A GREAT EASTER!                                                                                                                                                                                                                                                    |\n",
       "| 5 | 4 | 2020-04-11 22:35:35+00:00 | The Wall Street Journal Editorial Board doesn’t have a clue on how to fight and win. Their views on Tariffs &amp; Trade are losers for the U.S., but winners for other countries, including China. If we followed their standards, we’d have no Country left. They should love Sleepy Joe!      |\n",
       "| 6 | 5 | 2020-04-11 21:53:36+00:00 | Watching @FoxNews on weekend afternoons is a total waste of time. We now have some great alternatives, like @OANN.                                                                                                                                                                          |\n",
       "\n"
      ],
      "text/plain": [
       "  X DateTime                 \n",
       "1 0 2020-04-11 23:51:58+00:00\n",
       "2 1 2020-04-11 23:34:58+00:00\n",
       "3 2 2020-04-11 23:28:18+00:00\n",
       "4 3 2020-04-11 22:38:29+00:00\n",
       "5 4 2020-04-11 22:35:35+00:00\n",
       "6 5 2020-04-11 21:53:36+00:00\n",
       "  Text                                                                                                                                                                                                                                                                                       \n",
       "1 Will be interviewed by @JudgeJeanine tonight at 9:00 P.M. Eastern on @FoxNews!                                                                                                                                                                                                             \n",
       "2 So now the Fake News @nytimes is tracing the CoronaVirus origins back to Europe, NOT China. This is a first! I wonder what the Failing New York Times got for this one? Are there any NAMED sources? They were recently thrown out of China like dogs, and obviously want back in. Sad!    \n",
       "3 Governor @GavinNewsom of California has been very nice &amp; highly supportive about the great job we have done, working together, for California. That is the good news, but this is the bad. He is unfairly under attack by the Radical Left Dems, MSDNC etc. He is strong! Will he fold?\n",
       "4 I will be watching. HAVE A GREAT EASTER!                                                                                                                                                                                                                                                   \n",
       "5 The Wall Street Journal Editorial Board doesn’t have a clue on how to fight and win. Their views on Tariffs & Trade are losers for the U.S., but winners for other countries, including China. If we followed their standards, we’d have no Country left. They should love Sleepy Joe!     \n",
       "6 Watching @FoxNews on weekend afternoons is a total waste of time. We now have some great alternatives, like @OANN.                                                                                                                                                                         "
      ]
     },
     "metadata": {},
     "output_type": "display_data"
    }
   ],
   "source": [
    "trumpTweets <- read.csv(\"trumpTweets.csv\")\n",
    "\n",
    "head(trumpTweets)"
   ]
  },
  {
   "cell_type": "code",
   "execution_count": null,
   "metadata": {},
   "outputs": [],
   "source": []
  }
 ],
 "metadata": {
  "celltoolbar": "Slideshow",
  "kernelspec": {
   "display_name": "R",
   "language": "R",
   "name": "ir"
  },
  "language_info": {
   "codemirror_mode": "r",
   "file_extension": ".r",
   "mimetype": "text/x-r-source",
   "name": "R",
   "pygments_lexer": "r",
   "version": "3.6.3"
  }
 },
 "nbformat": 4,
 "nbformat_minor": 4
}
