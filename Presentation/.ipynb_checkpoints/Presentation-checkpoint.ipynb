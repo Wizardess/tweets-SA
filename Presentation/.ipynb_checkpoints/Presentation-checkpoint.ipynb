{
 "cells": [
  {
   "cell_type": "markdown",
   "metadata": {
    "slideshow": {
     "slide_type": "slide"
    }
   },
   "source": [
    "# Sentiment Analysis, Twitter, and Donald Trump\n",
    "Kenia Pina Sanchez and Victoria Lam  \n",
    "COMP 578 Data Mining"
   ]
  },
  {
   "cell_type": "markdown",
   "metadata": {
    "slideshow": {
     "slide_type": "slide"
    }
   },
   "source": [
    "## Table of Contents\n",
    "\n",
    "* Project proposal\n",
    "* Dataset\n",
    "* Analysis tools\n",
    "* Analysis\n",
    "* Future Work"
   ]
  },
  {
   "cell_type": "markdown",
   "metadata": {
    "slideshow": {
     "slide_type": "subslide"
    }
   },
   "source": [
    "## Project Proposal"
   ]
  },
  {
   "cell_type": "markdown",
   "metadata": {
    "slideshow": {
     "slide_type": "subslide"
    }
   },
   "source": [
    "<!--- Insert a COVID-19 image here --->"
   ]
  },
  {
   "cell_type": "markdown",
   "metadata": {
    "slideshow": {
     "slide_type": "notes"
    }
   },
   "source": [
    "In just a few months, COVID-19 became a pandemic that set the world on its heels. Nations scrambled to coordinate an effective response as COVID-19 spread indiscriminately. Donald Trump, whose presidency of the United States has been characterized with inaccurate statements and incohesive positions on a variety of pertinent issues such as healthcare, worker protections, and social safety nets, has tweeted extensively about the progression of theCOVID-19 pandemic, sometimes contradicting his own tweets later in the day.\n",
    "\n",
    "We examine how his growing concern for COVID-19 affects his position on key issues pertaining to the coming election, such as the health of theeconomy, public perception of himself, and the medical response of key voter states.\n",
    "\n",
    "This project is therefore a classification problem which gives insight intothe confidences and concerns, and thus the motivations for his actions, of the president as he prepares for the upcoming election."
   ]
  },
  {
   "cell_type": "markdown",
   "metadata": {
    "slideshow": {
     "slide_type": "slide"
    }
   },
   "source": [
    "## Dataset"
   ]
  },
  {
   "cell_type": "markdown",
   "metadata": {
    "slideshow": {
     "slide_type": "subslide"
    }
   },
   "source": [
    "We scraped twitter for tweets from Donald Trump over a period of January 01, 2020 to April 12, 2020. These tweets and the associated UTC datetime are stored as a .csv file called `trumpTweets.csv`."
   ]
  },
  {
   "cell_type": "code",
   "execution_count": 1,
   "metadata": {
    "slideshow": {
     "slide_type": "skip"
    }
   },
   "outputs": [
    {
     "name": "stderr",
     "output_type": "stream",
     "text": [
      "── \u001b[1mAttaching packages\u001b[22m ─────────────────────────────────────── tidyverse 1.3.0 ──\n",
      "\n",
      "\u001b[32m✔\u001b[39m \u001b[34mggplot2\u001b[39m 3.3.0     \u001b[32m✔\u001b[39m \u001b[34mpurrr  \u001b[39m 0.3.3\n",
      "\u001b[32m✔\u001b[39m \u001b[34mtibble \u001b[39m 3.0.0     \u001b[32m✔\u001b[39m \u001b[34mdplyr  \u001b[39m 0.8.5\n",
      "\u001b[32m✔\u001b[39m \u001b[34mtidyr  \u001b[39m 1.0.2     \u001b[32m✔\u001b[39m \u001b[34mstringr\u001b[39m 1.4.0\n",
      "\u001b[32m✔\u001b[39m \u001b[34mreadr  \u001b[39m 1.3.1     \u001b[32m✔\u001b[39m \u001b[34mforcats\u001b[39m 0.5.0\n",
      "\n",
      "── \u001b[1mConflicts\u001b[22m ────────────────────────────────────────── tidyverse_conflicts() ──\n",
      "\u001b[31m✖\u001b[39m \u001b[34mdplyr\u001b[39m::\u001b[32mfilter()\u001b[39m masks \u001b[34mstats\u001b[39m::filter()\n",
      "\u001b[31m✖\u001b[39m \u001b[34mdplyr\u001b[39m::\u001b[32mlag()\u001b[39m    masks \u001b[34mstats\u001b[39m::lag()\n",
      "\n",
      "\n",
      "Attaching package: ‘glue’\n",
      "\n",
      "\n",
      "The following object is masked from ‘package:dplyr’:\n",
      "\n",
      "    collapse\n",
      "\n",
      "\n"
     ]
    }
   ],
   "source": [
    "library(tidyverse)\n",
    "library(tidytext)\n",
    "library(glue)\n",
    "library(stringr)"
   ]
  },
  {
   "cell_type": "code",
   "execution_count": 2,
   "metadata": {
    "slideshow": {
     "slide_type": "subslide"
    }
   },
   "outputs": [
    {
     "data": {
      "text/html": [
       "<table>\n",
       "<caption>A data.frame: 6 × 3</caption>\n",
       "<thead>\n",
       "\t<tr><th></th><th scope=col>X</th><th scope=col>DateTime</th><th scope=col>Text</th></tr>\n",
       "\t<tr><th></th><th scope=col>&lt;int&gt;</th><th scope=col>&lt;fct&gt;</th><th scope=col>&lt;fct&gt;</th></tr>\n",
       "</thead>\n",
       "<tbody>\n",
       "\t<tr><th scope=row>1</th><td>0</td><td>2020-04-11 23:51:58+00:00</td><td>Will be interviewed by @JudgeJeanine tonight at 9:00 P.M. Eastern on @FoxNews!                                                                                                                                                                                                             </td></tr>\n",
       "\t<tr><th scope=row>2</th><td>1</td><td>2020-04-11 23:34:58+00:00</td><td>So now the Fake News @nytimes is tracing the CoronaVirus origins back to Europe, NOT China. This is a first! I wonder what the Failing New York Times got for this one? Are there any NAMED sources? They were recently thrown out of China like dogs, and obviously want back in. Sad!    </td></tr>\n",
       "\t<tr><th scope=row>3</th><td>2</td><td>2020-04-11 23:28:18+00:00</td><td>Governor @GavinNewsom of California has been very nice &amp;amp; highly supportive about the great job we have done, working together, for California. That is the good news, but this is the bad. He is unfairly under attack by the Radical Left Dems, MSDNC etc. He is strong! Will he fold?</td></tr>\n",
       "\t<tr><th scope=row>4</th><td>3</td><td>2020-04-11 22:38:29+00:00</td><td>I will be watching. HAVE A GREAT EASTER!                                                                                                                                                                                                                                                   </td></tr>\n",
       "\t<tr><th scope=row>5</th><td>4</td><td>2020-04-11 22:35:35+00:00</td><td><span style=white-space:pre-wrap>The Wall Street Journal Editorial Board doesn’t have a clue on how to fight and win. Their views on Tariffs &amp; Trade are losers for the U.S., but winners for other countries, including China. If we followed their standards, we’d have no Country left. They should love Sleepy Joe!     </span></td></tr>\n",
       "\t<tr><th scope=row>6</th><td>5</td><td>2020-04-11 21:53:36+00:00</td><td>Watching @FoxNews on weekend afternoons is a total waste of time. We now have some great alternatives, like @OANN.                                                                                                                                                                         </td></tr>\n",
       "</tbody>\n",
       "</table>\n"
      ],
      "text/latex": [
       "A data.frame: 6 × 3\n",
       "\\begin{tabular}{r|lll}\n",
       "  & X & DateTime & Text\\\\\n",
       "  & <int> & <fct> & <fct>\\\\\n",
       "\\hline\n",
       "\t1 & 0 & 2020-04-11 23:51:58+00:00 & Will be interviewed by @JudgeJeanine tonight at 9:00 P.M. Eastern on @FoxNews!                                                                                                                                                                                                             \\\\\n",
       "\t2 & 1 & 2020-04-11 23:34:58+00:00 & So now the Fake News @nytimes is tracing the CoronaVirus origins back to Europe, NOT China. This is a first! I wonder what the Failing New York Times got for this one? Are there any NAMED sources? They were recently thrown out of China like dogs, and obviously want back in. Sad!    \\\\\n",
       "\t3 & 2 & 2020-04-11 23:28:18+00:00 & Governor @GavinNewsom of California has been very nice \\&amp; highly supportive about the great job we have done, working together, for California. That is the good news, but this is the bad. He is unfairly under attack by the Radical Left Dems, MSDNC etc. He is strong! Will he fold?\\\\\n",
       "\t4 & 3 & 2020-04-11 22:38:29+00:00 & I will be watching. HAVE A GREAT EASTER!                                                                                                                                                                                                                                                   \\\\\n",
       "\t5 & 4 & 2020-04-11 22:35:35+00:00 & The Wall Street Journal Editorial Board doesn’t have a clue on how to fight and win. Their views on Tariffs \\& Trade are losers for the U.S., but winners for other countries, including China. If we followed their standards, we’d have no Country left. They should love Sleepy Joe!     \\\\\n",
       "\t6 & 5 & 2020-04-11 21:53:36+00:00 & Watching @FoxNews on weekend afternoons is a total waste of time. We now have some great alternatives, like @OANN.                                                                                                                                                                         \\\\\n",
       "\\end{tabular}\n"
      ],
      "text/markdown": [
       "\n",
       "A data.frame: 6 × 3\n",
       "\n",
       "| <!--/--> | X &lt;int&gt; | DateTime &lt;fct&gt; | Text &lt;fct&gt; |\n",
       "|---|---|---|---|\n",
       "| 1 | 0 | 2020-04-11 23:51:58+00:00 | Will be interviewed by @JudgeJeanine tonight at 9:00 P.M. Eastern on @FoxNews!                                                                                                                                                                                                              |\n",
       "| 2 | 1 | 2020-04-11 23:34:58+00:00 | So now the Fake News @nytimes is tracing the CoronaVirus origins back to Europe, NOT China. This is a first! I wonder what the Failing New York Times got for this one? Are there any NAMED sources? They were recently thrown out of China like dogs, and obviously want back in. Sad!     |\n",
       "| 3 | 2 | 2020-04-11 23:28:18+00:00 | Governor @GavinNewsom of California has been very nice &amp;amp; highly supportive about the great job we have done, working together, for California. That is the good news, but this is the bad. He is unfairly under attack by the Radical Left Dems, MSDNC etc. He is strong! Will he fold? |\n",
       "| 4 | 3 | 2020-04-11 22:38:29+00:00 | I will be watching. HAVE A GREAT EASTER!                                                                                                                                                                                                                                                    |\n",
       "| 5 | 4 | 2020-04-11 22:35:35+00:00 | The Wall Street Journal Editorial Board doesn’t have a clue on how to fight and win. Their views on Tariffs &amp; Trade are losers for the U.S., but winners for other countries, including China. If we followed their standards, we’d have no Country left. They should love Sleepy Joe!      |\n",
       "| 6 | 5 | 2020-04-11 21:53:36+00:00 | Watching @FoxNews on weekend afternoons is a total waste of time. We now have some great alternatives, like @OANN.                                                                                                                                                                          |\n",
       "\n"
      ],
      "text/plain": [
       "  X DateTime                 \n",
       "1 0 2020-04-11 23:51:58+00:00\n",
       "2 1 2020-04-11 23:34:58+00:00\n",
       "3 2 2020-04-11 23:28:18+00:00\n",
       "4 3 2020-04-11 22:38:29+00:00\n",
       "5 4 2020-04-11 22:35:35+00:00\n",
       "6 5 2020-04-11 21:53:36+00:00\n",
       "  Text                                                                                                                                                                                                                                                                                       \n",
       "1 Will be interviewed by @JudgeJeanine tonight at 9:00 P.M. Eastern on @FoxNews!                                                                                                                                                                                                             \n",
       "2 So now the Fake News @nytimes is tracing the CoronaVirus origins back to Europe, NOT China. This is a first! I wonder what the Failing New York Times got for this one? Are there any NAMED sources? They were recently thrown out of China like dogs, and obviously want back in. Sad!    \n",
       "3 Governor @GavinNewsom of California has been very nice &amp; highly supportive about the great job we have done, working together, for California. That is the good news, but this is the bad. He is unfairly under attack by the Radical Left Dems, MSDNC etc. He is strong! Will he fold?\n",
       "4 I will be watching. HAVE A GREAT EASTER!                                                                                                                                                                                                                                                   \n",
       "5 The Wall Street Journal Editorial Board doesn’t have a clue on how to fight and win. Their views on Tariffs & Trade are losers for the U.S., but winners for other countries, including China. If we followed their standards, we’d have no Country left. They should love Sleepy Joe!     \n",
       "6 Watching @FoxNews on weekend afternoons is a total waste of time. We now have some great alternatives, like @OANN.                                                                                                                                                                         "
      ]
     },
     "metadata": {},
     "output_type": "display_data"
    }
   ],
   "source": [
    "trumpTweets <- read.csv(\"trumpTweets.csv\")\n",
    "\n",
    "head(trumpTweets)"
   ]
  },
  {
   "cell_type": "markdown",
   "metadata": {
    "slideshow": {
     "slide_type": "slide"
    }
   },
   "source": [
    "## Analysis Tools"
   ]
  },
  {
   "cell_type": "markdown",
   "metadata": {
    "slideshow": {
     "slide_type": "subslide"
    }
   },
   "source": [
    "* GetOldTweets3 (Python)\n",
    "* R packages\n",
    "  * tidyverse\n",
    "  * tidytext\n",
    "  * glue\n",
    "  * stringr"
   ]
  },
  {
   "cell_type": "markdown",
   "metadata": {
    "slideshow": {
     "slide_type": "notes"
    }
   },
   "source": [
    "The library `tidyverse` includes a number of dependencies:\n",
    "* ggplot2\n",
    "* tibble\n",
    "* tidyr\n",
    "* readr\n",
    "* purrr\n",
    "* dplyr\n",
    "* stringr\n",
    "* forcats"
   ]
  },
  {
   "cell_type": "code",
   "execution_count": 11,
   "metadata": {
    "slideshow": {
     "slide_type": "subslide"
    }
   },
   "outputs": [
    {
     "data": {
      "text/html": [
       "<table>\n",
       "<caption>A data.frame: 1309 × 3</caption>\n",
       "<thead>\n",
       "\t<tr><th scope=col>X</th><th scope=col>DateTime</th><th scope=col>Text</th></tr>\n",
       "\t<tr><th scope=col>&lt;int&gt;</th><th scope=col>&lt;fct&gt;</th><th scope=col>&lt;fct&gt;</th></tr>\n",
       "</thead>\n",
       "<tbody>\n",
       "\t<tr><td> 0</td><td>2020-04-11 23:51:58+00:00</td><td>Will be interviewed by @JudgeJeanine tonight at 9:00 P.M. Eastern on @FoxNews!                                                                                                                                                                                                             </td></tr>\n",
       "\t<tr><td> 1</td><td>2020-04-11 23:34:58+00:00</td><td>So now the Fake News @nytimes is tracing the CoronaVirus origins back to Europe, NOT China. This is a first! I wonder what the Failing New York Times got for this one? Are there any NAMED sources? They were recently thrown out of China like dogs, and obviously want back in. Sad!    </td></tr>\n",
       "\t<tr><td> 2</td><td>2020-04-11 23:28:18+00:00</td><td>Governor @GavinNewsom of California has been very nice &amp;amp; highly supportive about the great job we have done, working together, for California. That is the good news, but this is the bad. He is unfairly under attack by the Radical Left Dems, MSDNC etc. He is strong! Will he fold?</td></tr>\n",
       "\t<tr><td> 3</td><td>2020-04-11 22:38:29+00:00</td><td>I will be watching. HAVE A GREAT EASTER!                                                                                                                                                                                                                                                   </td></tr>\n",
       "\t<tr><td> 4</td><td>2020-04-11 22:35:35+00:00</td><td><span style=white-space:pre-wrap>The Wall Street Journal Editorial Board doesn’t have a clue on how to fight and win. Their views on Tariffs &amp; Trade are losers for the U.S., but winners for other countries, including China. If we followed their standards, we’d have no Country left. They should love Sleepy Joe!     </span></td></tr>\n",
       "\t<tr><td> 5</td><td>2020-04-11 21:53:36+00:00</td><td>Watching @FoxNews on weekend afternoons is a total waste of time. We now have some great alternatives, like @OANN.                                                                                                                                                                         </td></tr>\n",
       "\t<tr><td> 6</td><td>2020-04-11 21:48:58+00:00</td><td>“The President and the Federal Government are doing an excellent job. When they say the death toll isn’t going to be as high as reported, they (the opposition) act like they’re sad because it’s lower. I think they are (Press Conferences) wonderful.” West Virginia Resident, C Span   </td></tr>\n",
       "\t<tr><td> 7</td><td>2020-04-11 21:36:48+00:00</td><td>Great editorial by @SenRonJohnson!                                                                                                                                                                                                                                                         </td></tr>\n",
       "\t<tr><td> 8</td><td>2020-04-11 21:08:43+00:00</td><td>Wishing all a safe and blessed Easter Sunday. I will be tuning into Pastor @robertjeffress at http://firstdallas.org/liveworship Church in Dallas, Texas tomorrow morning at 10:20 AM Eastern.                                                                                             </td></tr>\n",
       "\t<tr><td> 9</td><td>2020-04-11 18:53:59+00:00</td><td>WE WILL BUILD IT AGAIN!                                                                                                                                                                                                                                                                    </td></tr>\n",
       "\t<tr><td>10</td><td>2020-04-11 18:47:39+00:00</td><td>....Does anyone ever notice how few quotes from an actual person are given nowadays by the Lamestream Media. Very seldom. The unnamed or anonymous sources are almost always FAKE NEWS.                                                                                                    </td></tr>\n",
       "\t<tr><td>11</td><td>2020-04-11 18:43:03+00:00</td><td>When the Failing @nytimes or Amazon @washingtonpost writes a story saying “unnamed sources said”, or any such phrase where a person’s name is not used, don’t believe them. Most of these unnamed sources don’t exist. They are made up to defame &amp;amp; disparage. They have no “source”...</td></tr>\n",
       "\t<tr><td>12</td><td>2020-04-11 18:33:04+00:00</td><td>....economy was shuttered. This is unprecedented, it is unsettling and challenging but, we will rise to meet the occasion.” MACK MCLARTY, Clinton White House Chief of Staff. @LelandVittert @FoxNews Thank you Mack. We will be bigger, better and stronger than ever before!             </td></tr>\n",
       "\t<tr><td>13</td><td>2020-04-11 18:33:03+00:00</td><td>“I think the situation is unprecedented, and there is no question about that. It’s whiplash! The economy was moving forward at a rapid pace in terms of growth, jobs and even wage increases, and all of a sudden the pandemic hit and the....                                             </td></tr>\n",
       "\t<tr><td>14</td><td>2020-04-11 16:01:37+00:00</td><td>“Trump did a deal with Japan. A lot of our product goes to Japan, and we are booming in North Dakota.” Jim on C Span, Washington Journal. Our Trade Deals will be having a big impact on our Country as they kick in!                                                                      </td></tr>\n",
       "\t<tr><td>15</td><td>2020-04-10 16:44:53+00:00</td><td>                                                                                                                                                                                                                                                                                           </td></tr>\n",
       "\t<tr><td>16</td><td>2020-04-10 15:42:10+00:00</td><td>Nobody wants to say that if Elizabeth Warren gets out of the race before Super Tuesday, Crazy Bernie Sanders wins virtually every state in a blowout...NOT EVEN CLOSE! I haven’t heard one member of the Fake News Establishment even mention this irrefutable fact. FAKE NEWS!            </td></tr>\n",
       "\t<tr><td>17</td><td>2020-04-10 15:15:25+00:00</td><td>The Invisible Enemy will soon be in full retreat!                                                                                                                                                                                                                                          </td></tr>\n",
       "\t<tr><td>18</td><td>2020-04-10 14:36:41+00:00</td><td><span style=white-space:pre-wrap>Because the T.V. Ratings for the White House News Conference’s are the highest, the Opposition Party (Lamestream Media), the Radical Left, Do Nothing Democrats &amp;, of course, the few remaining RINO’S, are doing everything in their power to disparage &amp; end them. The People’s Voice!   </span></td></tr>\n",
       "\t<tr><td>19</td><td>2020-04-10 14:35:20+00:00</td><td>The White House Press Conference will take place today at 1:00 P.M., recognizing that it is Good Friday!                                                                                                                                                                                   </td></tr>\n",
       "\t<tr><td>20</td><td>2020-04-10 14:32:33+00:00</td><td>HAPPY GOOD FRIDAY TO ALL!                                                                                                                                                                                                                                                                  </td></tr>\n",
       "\t<tr><td>21</td><td>2020-04-10 14:14:28+00:00</td><td>Wow, Approval Rating in the Republican Party - 96%. Thank you!                                                                                                                                                                                                                             </td></tr>\n",
       "\t<tr><td>22</td><td>2020-04-10 12:36:15+00:00</td><td>Not good Gregg, but it is what it is. Have to save the airlines!                                                                                                                                                                                                                           </td></tr>\n",
       "\t<tr><td>23</td><td>2020-04-10 11:48:26+00:00</td><td><span style=white-space:pre-wrap>Congress must go back to DEDUCTIBILITY by businesses if Restaurants, Clubs &amp; Entertaiment is expected to flourish (like never before)!                                                                                                                                                     </span></td></tr>\n",
       "\t<tr><td>24</td><td>2020-04-10 11:32:26+00:00</td><td><span style=white-space:pre-wrap>Democrats are blocking a 251 Billion Dollar funding boost for Small Businesses which will help them keep their employees. It should be for only that reason, with no additions. We should have a big Infrastructure Phase Four with Payroll Tax Cuts &amp; more. Big Economic Bounceback!      </span></td></tr>\n",
       "\t<tr><td>25</td><td>2020-04-10 11:30:20+00:00</td><td>This week, in only 4 days, we had the biggest Stock Market increase since 1974. We have a great chance for the really big bounce when the Invisible Enemy is gone!                                                                                                                         </td></tr>\n",
       "\t<tr><td>26</td><td>2020-04-10 04:57:58+00:00</td><td>Tim Scott is Great!                                                                                                                                                                                                                                                                        </td></tr>\n",
       "\t<tr><td>27</td><td>2020-04-10 04:56:21+00:00</td><td>Thank you Frank. It’s ABC Fake News. They knew they were wrong when they went with this Hoax of a story!                                                                                                                                                                                   </td></tr>\n",
       "\t<tr><td>28</td><td>2020-04-10 04:45:48+00:00</td><td>Thank you Erin!                                                                                                                                                                                                                                                                            </td></tr>\n",
       "\t<tr><td>29</td><td>2020-04-10 00:42:29+00:00</td><td>....We will always be there for our Great Farmers, Cattlemen, Ranchers, and Producers!                                                                                                                                                                                                     </td></tr>\n",
       "\t<tr><td>⋮</td><td>⋮</td><td>⋮</td></tr>\n",
       "\t<tr><td>1279</td><td>2020-01-04 22:52:05+00:00</td><td>....hundreds of Iranian protesters. He was already attacking our Embassy, and preparing for additional hits in other locations. Iran has been nothing but problems for many years. Let this serve as a WARNING that if Iran strikes any Americans, or American assets, we have.....      </td></tr>\n",
       "\t<tr><td>1280</td><td>2020-01-04 22:52:03+00:00</td><td><span style=white-space:pre-wrap>Iran is talking very boldly about targeting certain USA assets as revenge for our ridding the world of their terrorist leader who had just killed an American, &amp; badly wounded many others, not to mention all of the people he had killed over his lifetime, including recently....     </span></td></tr>\n",
       "\t<tr><td>1281</td><td>2020-01-04 22:16:27+00:00</td><td><span style=white-space:pre-wrap>As hard as I work, &amp; as successful as our Country has become with our Economy, our Military &amp; everything else, it is ashame that the Democrats make us spend so much time &amp; money on this ridiculous Impeachment Lite Hoax. I should be able to devote all of my time to the REAL USA!   </span></td></tr>\n",
       "\t<tr><td>1282</td><td>2020-01-04 14:57:14+00:00</td><td>95% Approval Rating in the Republican Party. Thank you!                                                                                                                                                                                                                                  </td></tr>\n",
       "\t<tr><td>1283</td><td>2020-01-04 04:29:47+00:00</td><td>                                                                                                                                                                                                                                                                                         </td></tr>\n",
       "\t<tr><td>1284</td><td>2020-01-03 17:27:08+00:00</td><td>....followed, and then it was withdrawn. The Democrats argument for impeachment has not gotten stronger over the last few weeks. As Senator Josh Hawley just said, he’s going to enter a Motion to Dismiss the Impeachment Trial because it’s never actually been brought to trial.”     </td></tr>\n",
       "\t<tr><td>1285</td><td>2020-01-03 17:27:08+00:00</td><td>....different places that he thought were wasteful, and the career staff, as they always do, pushed back, and made a million excuses as to why they could not possibly stop spending U.S. taxpayer money. There was a back &amp; forth over the legal arguments, &amp; the W.H. decision was.... </td></tr>\n",
       "\t<tr><td>1286</td><td>2020-01-03 17:27:07+00:00</td><td><span style=white-space:pre-wrap>Christopher Bedford, The Federalist Senior Editor. “There is NOTHING NEW in these Emails at all that’s been discovered. It’s exactly what we knew before, which is that the White House &amp; political figures wanted to cut off aid, Trump wanted to question aid to a number of....       </span></td></tr>\n",
       "\t<tr><td>1287</td><td>2020-01-03 15:25:27+00:00</td><td>This is a great book, a must read!                                                                                                                                                                                                                                                       </td></tr>\n",
       "\t<tr><td>1288</td><td>2020-01-03 15:09:33+00:00</td><td>....and more control over Iraq, and the people of Iraq are not happy with that. It will never end well!                                                                                                                                                                                  </td></tr>\n",
       "\t<tr><td>1289</td><td>2020-01-03 15:09:32+00:00</td><td>The United States has paid Iraq Billions of Dollars a year, for many years. That is on top of all else we have done for them. The people of Iraq don’t want to be dominated &amp; controlled by Iran, but ultimately, that is their choice. Over the last 15 years, Iran has gained more.... </td></tr>\n",
       "\t<tr><td>1290</td><td>2020-01-03 13:54:43+00:00</td><td>....of PROTESTERS killed in Iran itself. While Iran will never be able to properly admit it, Soleimani was both hated and feared within the country. They are not nearly as saddened as the leaders will let the outside world believe. He should have been taken out many years ago!    </td></tr>\n",
       "\t<tr><td>1291</td><td>2020-01-03 13:54:43+00:00</td><td>General Qassem Soleimani has killed or badly wounded thousands of Americans over an extended period of time, and was plotting to kill many more...but got caught! He was directly and indirectly responsible for the death of millions of people, including the recent large number....  </td></tr>\n",
       "\t<tr><td>1292</td><td>2020-01-03 12:44:30+00:00</td><td>Iran never won a war, but never lost a negotiation!                                                                                                                                                                                                                                      </td></tr>\n",
       "\t<tr><td>1293</td><td>2020-01-03 02:32:53+00:00</td><td>                                                                                                                                                                                                                                                                                         </td></tr>\n",
       "\t<tr><td>1294</td><td>2020-01-02 13:58:02+00:00</td><td>....had happened to a Presidential candidate, or President, who was a Democrat, everybody involved would long ago be in jail for treason (and more), and it would be considered the CRIME OF THE CENTURY, far bigger and more sinister than Watergate!                                   </td></tr>\n",
       "\t<tr><td>1295</td><td>2020-01-02 13:58:01+00:00</td><td><span style=white-space:pre-wrap>A lot of very good people were taken down by a small group of Dirty (Filthy) Cops, politicians, government officials, and an investigation that was illegally started &amp; that SPIED on my campaign. The Witch Hunt is sputtering badly, but still going on (Ukraine Hoax!). If this....   </span></td></tr>\n",
       "\t<tr><td>1296</td><td>2020-01-02 13:42:42+00:00</td><td>....it’s alienating independents. This President is being persecuted over three years with one investigation after another, and that really plays to his base.” @FoxNews @cvpayne Their partisan Witch Hunt is hurting our Country do badly, &amp;amp; only bringing more division than ever!</td></tr>\n",
       "\t<tr><td>1297</td><td>2020-01-02 13:42:41+00:00</td><td>Sohrab Ahmari, New York Post “The Trump Campaign raised $10 million in the two days following the impeachment (Scam) vote. It seems the Democrats have shot themselves in the foot in one more way. They set up a process they know is not going to lead to the Presidents removal, &amp;... </td></tr>\n",
       "\t<tr><td>1298</td><td>2020-01-02 02:46:45+00:00</td><td>They don’t know how to do that!                                                                                                                                                                                                                                                          </td></tr>\n",
       "\t<tr><td>1299</td><td>2020-01-02 01:53:15+00:00</td><td>Great job!                                                                                                                                                                                                                                                                               </td></tr>\n",
       "\t<tr><td>1300</td><td>2020-01-02 01:46:08+00:00</td><td><span style=white-space:pre-wrap>Can’t believe @ATT keeps the management after yet another @CNN ratings dive. Nobody watching, NO CREDIBILITY! Maybe they should make changes at AT&amp;amp;T?                                                                                                                                </span></td></tr>\n",
       "\t<tr><td>1301</td><td>2020-01-02 01:36:54+00:00</td><td>Too bad, Corey would have won! He (and I) loves New Hampshire.                                                                                                                                                                                                                           </td></tr>\n",
       "\t<tr><td>1302</td><td>2020-01-02 01:32:31+00:00</td><td><span style=white-space:pre-wrap>Best equipment &amp; finest military in the World. On site quickly!                                                                                                                                                                                                                          </span></td></tr>\n",
       "\t<tr><td>1303</td><td>2020-01-01 03:12:07+00:00</td><td>                                                                                                                                                                                                                                                                                         </td></tr>\n",
       "\t<tr><td>1304</td><td>2020-01-01 01:30:35+00:00</td><td>HAPPY NEW YEAR!                                                                                                                                                                                                                                                                          </td></tr>\n",
       "\t<tr><td>1305</td><td>2020-01-01 01:22:28+00:00</td><td>Our fantastic First Lady!                                                                                                                                                                                                                                                                </td></tr>\n",
       "\t<tr><td>1306</td><td>2020-01-01 01:16:27+00:00</td><td>Thank you Steve. The greatest Witch Hunt in U.S. history!                                                                                                                                                                                                                                </td></tr>\n",
       "\t<tr><td>1307</td><td>2020-01-01 01:03:15+00:00</td><td>Thank you to the @dcexaminer Washington Examiner. The list is growing every day!                                                                                                                                                                                                         </td></tr>\n",
       "\t<tr><td>1308</td><td>2020-01-01 00:55:01+00:00</td><td>One of my greatest honors was to have gotten CHOICE approved for our great Veterans. Others have tried for decades, and failed!                                                                                                                                                          </td></tr>\n",
       "</tbody>\n",
       "</table>\n"
      ],
      "text/latex": [
       "A data.frame: 1309 × 3\n",
       "\\begin{tabular}{lll}\n",
       " X & DateTime & Text\\\\\n",
       " <int> & <fct> & <fct>\\\\\n",
       "\\hline\n",
       "\t  0 & 2020-04-11 23:51:58+00:00 & Will be interviewed by @JudgeJeanine tonight at 9:00 P.M. Eastern on @FoxNews!                                                                                                                                                                                                             \\\\\n",
       "\t  1 & 2020-04-11 23:34:58+00:00 & So now the Fake News @nytimes is tracing the CoronaVirus origins back to Europe, NOT China. This is a first! I wonder what the Failing New York Times got for this one? Are there any NAMED sources? They were recently thrown out of China like dogs, and obviously want back in. Sad!    \\\\\n",
       "\t  2 & 2020-04-11 23:28:18+00:00 & Governor @GavinNewsom of California has been very nice \\&amp; highly supportive about the great job we have done, working together, for California. That is the good news, but this is the bad. He is unfairly under attack by the Radical Left Dems, MSDNC etc. He is strong! Will he fold?\\\\\n",
       "\t  3 & 2020-04-11 22:38:29+00:00 & I will be watching. HAVE A GREAT EASTER!                                                                                                                                                                                                                                                   \\\\\n",
       "\t  4 & 2020-04-11 22:35:35+00:00 & The Wall Street Journal Editorial Board doesn’t have a clue on how to fight and win. Their views on Tariffs \\& Trade are losers for the U.S., but winners for other countries, including China. If we followed their standards, we’d have no Country left. They should love Sleepy Joe!     \\\\\n",
       "\t  5 & 2020-04-11 21:53:36+00:00 & Watching @FoxNews on weekend afternoons is a total waste of time. We now have some great alternatives, like @OANN.                                                                                                                                                                         \\\\\n",
       "\t  6 & 2020-04-11 21:48:58+00:00 & “The President and the Federal Government are doing an excellent job. When they say the death toll isn’t going to be as high as reported, they (the opposition) act like they’re sad because it’s lower. I think they are (Press Conferences) wonderful.” West Virginia Resident, C Span   \\\\\n",
       "\t  7 & 2020-04-11 21:36:48+00:00 & Great editorial by @SenRonJohnson!                                                                                                                                                                                                                                                         \\\\\n",
       "\t  8 & 2020-04-11 21:08:43+00:00 & Wishing all a safe and blessed Easter Sunday. I will be tuning into Pastor @robertjeffress at http://firstdallas.org/liveworship Church in Dallas, Texas tomorrow morning at 10:20 AM Eastern.                                                                                             \\\\\n",
       "\t  9 & 2020-04-11 18:53:59+00:00 & WE WILL BUILD IT AGAIN!                                                                                                                                                                                                                                                                    \\\\\n",
       "\t 10 & 2020-04-11 18:47:39+00:00 & ....Does anyone ever notice how few quotes from an actual person are given nowadays by the Lamestream Media. Very seldom. The unnamed or anonymous sources are almost always FAKE NEWS.                                                                                                    \\\\\n",
       "\t 11 & 2020-04-11 18:43:03+00:00 & When the Failing @nytimes or Amazon @washingtonpost writes a story saying “unnamed sources said”, or any such phrase where a person’s name is not used, don’t believe them. Most of these unnamed sources don’t exist. They are made up to defame \\&amp; disparage. They have no “source”...\\\\\n",
       "\t 12 & 2020-04-11 18:33:04+00:00 & ....economy was shuttered. This is unprecedented, it is unsettling and challenging but, we will rise to meet the occasion.” MACK MCLARTY, Clinton White House Chief of Staff. @LelandVittert @FoxNews Thank you Mack. We will be bigger, better and stronger than ever before!             \\\\\n",
       "\t 13 & 2020-04-11 18:33:03+00:00 & “I think the situation is unprecedented, and there is no question about that. It’s whiplash! The economy was moving forward at a rapid pace in terms of growth, jobs and even wage increases, and all of a sudden the pandemic hit and the....                                             \\\\\n",
       "\t 14 & 2020-04-11 16:01:37+00:00 & “Trump did a deal with Japan. A lot of our product goes to Japan, and we are booming in North Dakota.” Jim on C Span, Washington Journal. Our Trade Deals will be having a big impact on our Country as they kick in!                                                                      \\\\\n",
       "\t 15 & 2020-04-10 16:44:53+00:00 &                                                                                                                                                                                                                                                                                            \\\\\n",
       "\t 16 & 2020-04-10 15:42:10+00:00 & Nobody wants to say that if Elizabeth Warren gets out of the race before Super Tuesday, Crazy Bernie Sanders wins virtually every state in a blowout...NOT EVEN CLOSE! I haven’t heard one member of the Fake News Establishment even mention this irrefutable fact. FAKE NEWS!            \\\\\n",
       "\t 17 & 2020-04-10 15:15:25+00:00 & The Invisible Enemy will soon be in full retreat!                                                                                                                                                                                                                                          \\\\\n",
       "\t 18 & 2020-04-10 14:36:41+00:00 & Because the T.V. Ratings for the White House News Conference’s are the highest, the Opposition Party (Lamestream Media), the Radical Left, Do Nothing Democrats \\&, of course, the few remaining RINO’S, are doing everything in their power to disparage \\& end them. The People’s Voice!   \\\\\n",
       "\t 19 & 2020-04-10 14:35:20+00:00 & The White House Press Conference will take place today at 1:00 P.M., recognizing that it is Good Friday!                                                                                                                                                                                   \\\\\n",
       "\t 20 & 2020-04-10 14:32:33+00:00 & HAPPY GOOD FRIDAY TO ALL!                                                                                                                                                                                                                                                                  \\\\\n",
       "\t 21 & 2020-04-10 14:14:28+00:00 & Wow, Approval Rating in the Republican Party - 96\\%. Thank you!                                                                                                                                                                                                                             \\\\\n",
       "\t 22 & 2020-04-10 12:36:15+00:00 & Not good Gregg, but it is what it is. Have to save the airlines!                                                                                                                                                                                                                           \\\\\n",
       "\t 23 & 2020-04-10 11:48:26+00:00 & Congress must go back to DEDUCTIBILITY by businesses if Restaurants, Clubs \\& Entertaiment is expected to flourish (like never before)!                                                                                                                                                     \\\\\n",
       "\t 24 & 2020-04-10 11:32:26+00:00 & Democrats are blocking a 251 Billion Dollar funding boost for Small Businesses which will help them keep their employees. It should be for only that reason, with no additions. We should have a big Infrastructure Phase Four with Payroll Tax Cuts \\& more. Big Economic Bounceback!      \\\\\n",
       "\t 25 & 2020-04-10 11:30:20+00:00 & This week, in only 4 days, we had the biggest Stock Market increase since 1974. We have a great chance for the really big bounce when the Invisible Enemy is gone!                                                                                                                         \\\\\n",
       "\t 26 & 2020-04-10 04:57:58+00:00 & Tim Scott is Great!                                                                                                                                                                                                                                                                        \\\\\n",
       "\t 27 & 2020-04-10 04:56:21+00:00 & Thank you Frank. It’s ABC Fake News. They knew they were wrong when they went with this Hoax of a story!                                                                                                                                                                                   \\\\\n",
       "\t 28 & 2020-04-10 04:45:48+00:00 & Thank you Erin!                                                                                                                                                                                                                                                                            \\\\\n",
       "\t 29 & 2020-04-10 00:42:29+00:00 & ....We will always be there for our Great Farmers, Cattlemen, Ranchers, and Producers!                                                                                                                                                                                                     \\\\\n",
       "\t ⋮ & ⋮ & ⋮\\\\\n",
       "\t 1279 & 2020-01-04 22:52:05+00:00 & ....hundreds of Iranian protesters. He was already attacking our Embassy, and preparing for additional hits in other locations. Iran has been nothing but problems for many years. Let this serve as a WARNING that if Iran strikes any Americans, or American assets, we have.....      \\\\\n",
       "\t 1280 & 2020-01-04 22:52:03+00:00 & Iran is talking very boldly about targeting certain USA assets as revenge for our ridding the world of their terrorist leader who had just killed an American, \\& badly wounded many others, not to mention all of the people he had killed over his lifetime, including recently....     \\\\\n",
       "\t 1281 & 2020-01-04 22:16:27+00:00 & As hard as I work, \\& as successful as our Country has become with our Economy, our Military \\& everything else, it is ashame that the Democrats make us spend so much time \\& money on this ridiculous Impeachment Lite Hoax. I should be able to devote all of my time to the REAL USA!   \\\\\n",
       "\t 1282 & 2020-01-04 14:57:14+00:00 & 95\\% Approval Rating in the Republican Party. Thank you!                                                                                                                                                                                                                                  \\\\\n",
       "\t 1283 & 2020-01-04 04:29:47+00:00 &                                                                                                                                                                                                                                                                                          \\\\\n",
       "\t 1284 & 2020-01-03 17:27:08+00:00 & ....followed, and then it was withdrawn. The Democrats argument for impeachment has not gotten stronger over the last few weeks. As Senator Josh Hawley just said, he’s going to enter a Motion to Dismiss the Impeachment Trial because it’s never actually been brought to trial.”     \\\\\n",
       "\t 1285 & 2020-01-03 17:27:08+00:00 & ....different places that he thought were wasteful, and the career staff, as they always do, pushed back, and made a million excuses as to why they could not possibly stop spending U.S. taxpayer money. There was a back \\& forth over the legal arguments, \\& the W.H. decision was.... \\\\\n",
       "\t 1286 & 2020-01-03 17:27:07+00:00 & Christopher Bedford, The Federalist Senior Editor. “There is NOTHING NEW in these Emails at all that’s been discovered. It’s exactly what we knew before, which is that the White House \\& political figures wanted to cut off aid, Trump wanted to question aid to a number of....       \\\\\n",
       "\t 1287 & 2020-01-03 15:25:27+00:00 & This is a great book, a must read!                                                                                                                                                                                                                                                       \\\\\n",
       "\t 1288 & 2020-01-03 15:09:33+00:00 & ....and more control over Iraq, and the people of Iraq are not happy with that. It will never end well!                                                                                                                                                                                  \\\\\n",
       "\t 1289 & 2020-01-03 15:09:32+00:00 & The United States has paid Iraq Billions of Dollars a year, for many years. That is on top of all else we have done for them. The people of Iraq don’t want to be dominated \\& controlled by Iran, but ultimately, that is their choice. Over the last 15 years, Iran has gained more.... \\\\\n",
       "\t 1290 & 2020-01-03 13:54:43+00:00 & ....of PROTESTERS killed in Iran itself. While Iran will never be able to properly admit it, Soleimani was both hated and feared within the country. They are not nearly as saddened as the leaders will let the outside world believe. He should have been taken out many years ago!    \\\\\n",
       "\t 1291 & 2020-01-03 13:54:43+00:00 & General Qassem Soleimani has killed or badly wounded thousands of Americans over an extended period of time, and was plotting to kill many more...but got caught! He was directly and indirectly responsible for the death of millions of people, including the recent large number....  \\\\\n",
       "\t 1292 & 2020-01-03 12:44:30+00:00 & Iran never won a war, but never lost a negotiation!                                                                                                                                                                                                                                      \\\\\n",
       "\t 1293 & 2020-01-03 02:32:53+00:00 &                                                                                                                                                                                                                                                                                          \\\\\n",
       "\t 1294 & 2020-01-02 13:58:02+00:00 & ....had happened to a Presidential candidate, or President, who was a Democrat, everybody involved would long ago be in jail for treason (and more), and it would be considered the CRIME OF THE CENTURY, far bigger and more sinister than Watergate!                                   \\\\\n",
       "\t 1295 & 2020-01-02 13:58:01+00:00 & A lot of very good people were taken down by a small group of Dirty (Filthy) Cops, politicians, government officials, and an investigation that was illegally started \\& that SPIED on my campaign. The Witch Hunt is sputtering badly, but still going on (Ukraine Hoax!). If this....   \\\\\n",
       "\t 1296 & 2020-01-02 13:42:42+00:00 & ....it’s alienating independents. This President is being persecuted over three years with one investigation after another, and that really plays to his base.” @FoxNews @cvpayne Their partisan Witch Hunt is hurting our Country do badly, \\&amp; only bringing more division than ever!\\\\\n",
       "\t 1297 & 2020-01-02 13:42:41+00:00 & Sohrab Ahmari, New York Post “The Trump Campaign raised \\$10 million in the two days following the impeachment (Scam) vote. It seems the Democrats have shot themselves in the foot in one more way. They set up a process they know is not going to lead to the Presidents removal, \\&... \\\\\n",
       "\t 1298 & 2020-01-02 02:46:45+00:00 & They don’t know how to do that!                                                                                                                                                                                                                                                          \\\\\n",
       "\t 1299 & 2020-01-02 01:53:15+00:00 & Great job!                                                                                                                                                                                                                                                                               \\\\\n",
       "\t 1300 & 2020-01-02 01:46:08+00:00 & Can’t believe @ATT keeps the management after yet another @CNN ratings dive. Nobody watching, NO CREDIBILITY! Maybe they should make changes at AT\\&amp;T?                                                                                                                                \\\\\n",
       "\t 1301 & 2020-01-02 01:36:54+00:00 & Too bad, Corey would have won! He (and I) loves New Hampshire.                                                                                                                                                                                                                           \\\\\n",
       "\t 1302 & 2020-01-02 01:32:31+00:00 & Best equipment \\& finest military in the World. On site quickly!                                                                                                                                                                                                                          \\\\\n",
       "\t 1303 & 2020-01-01 03:12:07+00:00 &                                                                                                                                                                                                                                                                                          \\\\\n",
       "\t 1304 & 2020-01-01 01:30:35+00:00 & HAPPY NEW YEAR!                                                                                                                                                                                                                                                                          \\\\\n",
       "\t 1305 & 2020-01-01 01:22:28+00:00 & Our fantastic First Lady!                                                                                                                                                                                                                                                                \\\\\n",
       "\t 1306 & 2020-01-01 01:16:27+00:00 & Thank you Steve. The greatest Witch Hunt in U.S. history!                                                                                                                                                                                                                                \\\\\n",
       "\t 1307 & 2020-01-01 01:03:15+00:00 & Thank you to the @dcexaminer Washington Examiner. The list is growing every day!                                                                                                                                                                                                         \\\\\n",
       "\t 1308 & 2020-01-01 00:55:01+00:00 & One of my greatest honors was to have gotten CHOICE approved for our great Veterans. Others have tried for decades, and failed!                                                                                                                                                          \\\\\n",
       "\\end{tabular}\n"
      ],
      "text/markdown": [
       "\n",
       "A data.frame: 1309 × 3\n",
       "\n",
       "| X &lt;int&gt; | DateTime &lt;fct&gt; | Text &lt;fct&gt; |\n",
       "|---|---|---|\n",
       "|  0 | 2020-04-11 23:51:58+00:00 | Will be interviewed by @JudgeJeanine tonight at 9:00 P.M. Eastern on @FoxNews!                                                                                                                                                                                                              |\n",
       "|  1 | 2020-04-11 23:34:58+00:00 | So now the Fake News @nytimes is tracing the CoronaVirus origins back to Europe, NOT China. This is a first! I wonder what the Failing New York Times got for this one? Are there any NAMED sources? They were recently thrown out of China like dogs, and obviously want back in. Sad!     |\n",
       "|  2 | 2020-04-11 23:28:18+00:00 | Governor @GavinNewsom of California has been very nice &amp;amp; highly supportive about the great job we have done, working together, for California. That is the good news, but this is the bad. He is unfairly under attack by the Radical Left Dems, MSDNC etc. He is strong! Will he fold? |\n",
       "|  3 | 2020-04-11 22:38:29+00:00 | I will be watching. HAVE A GREAT EASTER!                                                                                                                                                                                                                                                    |\n",
       "|  4 | 2020-04-11 22:35:35+00:00 | The Wall Street Journal Editorial Board doesn’t have a clue on how to fight and win. Their views on Tariffs &amp; Trade are losers for the U.S., but winners for other countries, including China. If we followed their standards, we’d have no Country left. They should love Sleepy Joe!      |\n",
       "|  5 | 2020-04-11 21:53:36+00:00 | Watching @FoxNews on weekend afternoons is a total waste of time. We now have some great alternatives, like @OANN.                                                                                                                                                                          |\n",
       "|  6 | 2020-04-11 21:48:58+00:00 | “The President and the Federal Government are doing an excellent job. When they say the death toll isn’t going to be as high as reported, they (the opposition) act like they’re sad because it’s lower. I think they are (Press Conferences) wonderful.” West Virginia Resident, C Span    |\n",
       "|  7 | 2020-04-11 21:36:48+00:00 | Great editorial by @SenRonJohnson!                                                                                                                                                                                                                                                          |\n",
       "|  8 | 2020-04-11 21:08:43+00:00 | Wishing all a safe and blessed Easter Sunday. I will be tuning into Pastor @robertjeffress at http://firstdallas.org/liveworship Church in Dallas, Texas tomorrow morning at 10:20 AM Eastern.                                                                                              |\n",
       "|  9 | 2020-04-11 18:53:59+00:00 | WE WILL BUILD IT AGAIN!                                                                                                                                                                                                                                                                     |\n",
       "| 10 | 2020-04-11 18:47:39+00:00 | ....Does anyone ever notice how few quotes from an actual person are given nowadays by the Lamestream Media. Very seldom. The unnamed or anonymous sources are almost always FAKE NEWS.                                                                                                     |\n",
       "| 11 | 2020-04-11 18:43:03+00:00 | When the Failing @nytimes or Amazon @washingtonpost writes a story saying “unnamed sources said”, or any such phrase where a person’s name is not used, don’t believe them. Most of these unnamed sources don’t exist. They are made up to defame &amp;amp; disparage. They have no “source”... |\n",
       "| 12 | 2020-04-11 18:33:04+00:00 | ....economy was shuttered. This is unprecedented, it is unsettling and challenging but, we will rise to meet the occasion.” MACK MCLARTY, Clinton White House Chief of Staff. @LelandVittert @FoxNews Thank you Mack. We will be bigger, better and stronger than ever before!              |\n",
       "| 13 | 2020-04-11 18:33:03+00:00 | “I think the situation is unprecedented, and there is no question about that. It’s whiplash! The economy was moving forward at a rapid pace in terms of growth, jobs and even wage increases, and all of a sudden the pandemic hit and the....                                              |\n",
       "| 14 | 2020-04-11 16:01:37+00:00 | “Trump did a deal with Japan. A lot of our product goes to Japan, and we are booming in North Dakota.” Jim on C Span, Washington Journal. Our Trade Deals will be having a big impact on our Country as they kick in!                                                                       |\n",
       "| 15 | 2020-04-10 16:44:53+00:00 | <!----> |\n",
       "| 16 | 2020-04-10 15:42:10+00:00 | Nobody wants to say that if Elizabeth Warren gets out of the race before Super Tuesday, Crazy Bernie Sanders wins virtually every state in a blowout...NOT EVEN CLOSE! I haven’t heard one member of the Fake News Establishment even mention this irrefutable fact. FAKE NEWS!             |\n",
       "| 17 | 2020-04-10 15:15:25+00:00 | The Invisible Enemy will soon be in full retreat!                                                                                                                                                                                                                                           |\n",
       "| 18 | 2020-04-10 14:36:41+00:00 | Because the T.V. Ratings for the White House News Conference’s are the highest, the Opposition Party (Lamestream Media), the Radical Left, Do Nothing Democrats &amp;, of course, the few remaining RINO’S, are doing everything in their power to disparage &amp; end them. The People’s Voice!    |\n",
       "| 19 | 2020-04-10 14:35:20+00:00 | The White House Press Conference will take place today at 1:00 P.M., recognizing that it is Good Friday!                                                                                                                                                                                    |\n",
       "| 20 | 2020-04-10 14:32:33+00:00 | HAPPY GOOD FRIDAY TO ALL!                                                                                                                                                                                                                                                                   |\n",
       "| 21 | 2020-04-10 14:14:28+00:00 | Wow, Approval Rating in the Republican Party - 96%. Thank you!                                                                                                                                                                                                                              |\n",
       "| 22 | 2020-04-10 12:36:15+00:00 | Not good Gregg, but it is what it is. Have to save the airlines!                                                                                                                                                                                                                            |\n",
       "| 23 | 2020-04-10 11:48:26+00:00 | Congress must go back to DEDUCTIBILITY by businesses if Restaurants, Clubs &amp; Entertaiment is expected to flourish (like never before)!                                                                                                                                                      |\n",
       "| 24 | 2020-04-10 11:32:26+00:00 | Democrats are blocking a 251 Billion Dollar funding boost for Small Businesses which will help them keep their employees. It should be for only that reason, with no additions. We should have a big Infrastructure Phase Four with Payroll Tax Cuts &amp; more. Big Economic Bounceback!       |\n",
       "| 25 | 2020-04-10 11:30:20+00:00 | This week, in only 4 days, we had the biggest Stock Market increase since 1974. We have a great chance for the really big bounce when the Invisible Enemy is gone!                                                                                                                          |\n",
       "| 26 | 2020-04-10 04:57:58+00:00 | Tim Scott is Great!                                                                                                                                                                                                                                                                         |\n",
       "| 27 | 2020-04-10 04:56:21+00:00 | Thank you Frank. It’s ABC Fake News. They knew they were wrong when they went with this Hoax of a story!                                                                                                                                                                                    |\n",
       "| 28 | 2020-04-10 04:45:48+00:00 | Thank you Erin!                                                                                                                                                                                                                                                                             |\n",
       "| 29 | 2020-04-10 00:42:29+00:00 | ....We will always be there for our Great Farmers, Cattlemen, Ranchers, and Producers!                                                                                                                                                                                                      |\n",
       "| ⋮ | ⋮ | ⋮ |\n",
       "| 1279 | 2020-01-04 22:52:05+00:00 | ....hundreds of Iranian protesters. He was already attacking our Embassy, and preparing for additional hits in other locations. Iran has been nothing but problems for many years. Let this serve as a WARNING that if Iran strikes any Americans, or American assets, we have.....       |\n",
       "| 1280 | 2020-01-04 22:52:03+00:00 | Iran is talking very boldly about targeting certain USA assets as revenge for our ridding the world of their terrorist leader who had just killed an American, &amp; badly wounded many others, not to mention all of the people he had killed over his lifetime, including recently....      |\n",
       "| 1281 | 2020-01-04 22:16:27+00:00 | As hard as I work, &amp; as successful as our Country has become with our Economy, our Military &amp; everything else, it is ashame that the Democrats make us spend so much time &amp; money on this ridiculous Impeachment Lite Hoax. I should be able to devote all of my time to the REAL USA!    |\n",
       "| 1282 | 2020-01-04 14:57:14+00:00 | 95% Approval Rating in the Republican Party. Thank you!                                                                                                                                                                                                                                   |\n",
       "| 1283 | 2020-01-04 04:29:47+00:00 | <!----> |\n",
       "| 1284 | 2020-01-03 17:27:08+00:00 | ....followed, and then it was withdrawn. The Democrats argument for impeachment has not gotten stronger over the last few weeks. As Senator Josh Hawley just said, he’s going to enter a Motion to Dismiss the Impeachment Trial because it’s never actually been brought to trial.”      |\n",
       "| 1285 | 2020-01-03 17:27:08+00:00 | ....different places that he thought were wasteful, and the career staff, as they always do, pushed back, and made a million excuses as to why they could not possibly stop spending U.S. taxpayer money. There was a back &amp; forth over the legal arguments, &amp; the W.H. decision was....  |\n",
       "| 1286 | 2020-01-03 17:27:07+00:00 | Christopher Bedford, The Federalist Senior Editor. “There is NOTHING NEW in these Emails at all that’s been discovered. It’s exactly what we knew before, which is that the White House &amp; political figures wanted to cut off aid, Trump wanted to question aid to a number of....        |\n",
       "| 1287 | 2020-01-03 15:25:27+00:00 | This is a great book, a must read!                                                                                                                                                                                                                                                        |\n",
       "| 1288 | 2020-01-03 15:09:33+00:00 | ....and more control over Iraq, and the people of Iraq are not happy with that. It will never end well!                                                                                                                                                                                   |\n",
       "| 1289 | 2020-01-03 15:09:32+00:00 | The United States has paid Iraq Billions of Dollars a year, for many years. That is on top of all else we have done for them. The people of Iraq don’t want to be dominated &amp; controlled by Iran, but ultimately, that is their choice. Over the last 15 years, Iran has gained more....  |\n",
       "| 1290 | 2020-01-03 13:54:43+00:00 | ....of PROTESTERS killed in Iran itself. While Iran will never be able to properly admit it, Soleimani was both hated and feared within the country. They are not nearly as saddened as the leaders will let the outside world believe. He should have been taken out many years ago!     |\n",
       "| 1291 | 2020-01-03 13:54:43+00:00 | General Qassem Soleimani has killed or badly wounded thousands of Americans over an extended period of time, and was plotting to kill many more...but got caught! He was directly and indirectly responsible for the death of millions of people, including the recent large number....   |\n",
       "| 1292 | 2020-01-03 12:44:30+00:00 | Iran never won a war, but never lost a negotiation!                                                                                                                                                                                                                                       |\n",
       "| 1293 | 2020-01-03 02:32:53+00:00 | <!----> |\n",
       "| 1294 | 2020-01-02 13:58:02+00:00 | ....had happened to a Presidential candidate, or President, who was a Democrat, everybody involved would long ago be in jail for treason (and more), and it would be considered the CRIME OF THE CENTURY, far bigger and more sinister than Watergate!                                    |\n",
       "| 1295 | 2020-01-02 13:58:01+00:00 | A lot of very good people were taken down by a small group of Dirty (Filthy) Cops, politicians, government officials, and an investigation that was illegally started &amp; that SPIED on my campaign. The Witch Hunt is sputtering badly, but still going on (Ukraine Hoax!). If this....    |\n",
       "| 1296 | 2020-01-02 13:42:42+00:00 | ....it’s alienating independents. This President is being persecuted over three years with one investigation after another, and that really plays to his base.” @FoxNews @cvpayne Their partisan Witch Hunt is hurting our Country do badly, &amp;amp; only bringing more division than ever! |\n",
       "| 1297 | 2020-01-02 13:42:41+00:00 | Sohrab Ahmari, New York Post “The Trump Campaign raised $10 million in the two days following the impeachment (Scam) vote. It seems the Democrats have shot themselves in the foot in one more way. They set up a process they know is not going to lead to the Presidents removal, &amp;...  |\n",
       "| 1298 | 2020-01-02 02:46:45+00:00 | They don’t know how to do that!                                                                                                                                                                                                                                                           |\n",
       "| 1299 | 2020-01-02 01:53:15+00:00 | Great job!                                                                                                                                                                                                                                                                                |\n",
       "| 1300 | 2020-01-02 01:46:08+00:00 | Can’t believe @ATT keeps the management after yet another @CNN ratings dive. Nobody watching, NO CREDIBILITY! Maybe they should make changes at AT&amp;amp;T?                                                                                                                                 |\n",
       "| 1301 | 2020-01-02 01:36:54+00:00 | Too bad, Corey would have won! He (and I) loves New Hampshire.                                                                                                                                                                                                                            |\n",
       "| 1302 | 2020-01-02 01:32:31+00:00 | Best equipment &amp; finest military in the World. On site quickly!                                                                                                                                                                                                                           |\n",
       "| 1303 | 2020-01-01 03:12:07+00:00 | <!----> |\n",
       "| 1304 | 2020-01-01 01:30:35+00:00 | HAPPY NEW YEAR!                                                                                                                                                                                                                                                                           |\n",
       "| 1305 | 2020-01-01 01:22:28+00:00 | Our fantastic First Lady!                                                                                                                                                                                                                                                                 |\n",
       "| 1306 | 2020-01-01 01:16:27+00:00 | Thank you Steve. The greatest Witch Hunt in U.S. history!                                                                                                                                                                                                                                 |\n",
       "| 1307 | 2020-01-01 01:03:15+00:00 | Thank you to the @dcexaminer Washington Examiner. The list is growing every day!                                                                                                                                                                                                          |\n",
       "| 1308 | 2020-01-01 00:55:01+00:00 | One of my greatest honors was to have gotten CHOICE approved for our great Veterans. Others have tried for decades, and failed!                                                                                                                                                           |\n",
       "\n"
      ],
      "text/plain": [
       "     X    DateTime                 \n",
       "1     0   2020-04-11 23:51:58+00:00\n",
       "2     1   2020-04-11 23:34:58+00:00\n",
       "3     2   2020-04-11 23:28:18+00:00\n",
       "4     3   2020-04-11 22:38:29+00:00\n",
       "5     4   2020-04-11 22:35:35+00:00\n",
       "6     5   2020-04-11 21:53:36+00:00\n",
       "7     6   2020-04-11 21:48:58+00:00\n",
       "8     7   2020-04-11 21:36:48+00:00\n",
       "9     8   2020-04-11 21:08:43+00:00\n",
       "10    9   2020-04-11 18:53:59+00:00\n",
       "11   10   2020-04-11 18:47:39+00:00\n",
       "12   11   2020-04-11 18:43:03+00:00\n",
       "13   12   2020-04-11 18:33:04+00:00\n",
       "14   13   2020-04-11 18:33:03+00:00\n",
       "15   14   2020-04-11 16:01:37+00:00\n",
       "16   15   2020-04-10 16:44:53+00:00\n",
       "17   16   2020-04-10 15:42:10+00:00\n",
       "18   17   2020-04-10 15:15:25+00:00\n",
       "19   18   2020-04-10 14:36:41+00:00\n",
       "20   19   2020-04-10 14:35:20+00:00\n",
       "21   20   2020-04-10 14:32:33+00:00\n",
       "22   21   2020-04-10 14:14:28+00:00\n",
       "23   22   2020-04-10 12:36:15+00:00\n",
       "24   23   2020-04-10 11:48:26+00:00\n",
       "25   24   2020-04-10 11:32:26+00:00\n",
       "26   25   2020-04-10 11:30:20+00:00\n",
       "27   26   2020-04-10 04:57:58+00:00\n",
       "28   27   2020-04-10 04:56:21+00:00\n",
       "29   28   2020-04-10 04:45:48+00:00\n",
       "30   29   2020-04-10 00:42:29+00:00\n",
       "⋮    ⋮    ⋮                        \n",
       "1280 1279 2020-01-04 22:52:05+00:00\n",
       "1281 1280 2020-01-04 22:52:03+00:00\n",
       "1282 1281 2020-01-04 22:16:27+00:00\n",
       "1283 1282 2020-01-04 14:57:14+00:00\n",
       "1284 1283 2020-01-04 04:29:47+00:00\n",
       "1285 1284 2020-01-03 17:27:08+00:00\n",
       "1286 1285 2020-01-03 17:27:08+00:00\n",
       "1287 1286 2020-01-03 17:27:07+00:00\n",
       "1288 1287 2020-01-03 15:25:27+00:00\n",
       "1289 1288 2020-01-03 15:09:33+00:00\n",
       "1290 1289 2020-01-03 15:09:32+00:00\n",
       "1291 1290 2020-01-03 13:54:43+00:00\n",
       "1292 1291 2020-01-03 13:54:43+00:00\n",
       "1293 1292 2020-01-03 12:44:30+00:00\n",
       "1294 1293 2020-01-03 02:32:53+00:00\n",
       "1295 1294 2020-01-02 13:58:02+00:00\n",
       "1296 1295 2020-01-02 13:58:01+00:00\n",
       "1297 1296 2020-01-02 13:42:42+00:00\n",
       "1298 1297 2020-01-02 13:42:41+00:00\n",
       "1299 1298 2020-01-02 02:46:45+00:00\n",
       "1300 1299 2020-01-02 01:53:15+00:00\n",
       "1301 1300 2020-01-02 01:46:08+00:00\n",
       "1302 1301 2020-01-02 01:36:54+00:00\n",
       "1303 1302 2020-01-02 01:32:31+00:00\n",
       "1304 1303 2020-01-01 03:12:07+00:00\n",
       "1305 1304 2020-01-01 01:30:35+00:00\n",
       "1306 1305 2020-01-01 01:22:28+00:00\n",
       "1307 1306 2020-01-01 01:16:27+00:00\n",
       "1308 1307 2020-01-01 01:03:15+00:00\n",
       "1309 1308 2020-01-01 00:55:01+00:00\n",
       "     Text                                                                                                                                                                                                                                                                                       \n",
       "1    Will be interviewed by @JudgeJeanine tonight at 9:00 P.M. Eastern on @FoxNews!                                                                                                                                                                                                             \n",
       "2    So now the Fake News @nytimes is tracing the CoronaVirus origins back to Europe, NOT China. This is a first! I wonder what the Failing New York Times got for this one? Are there any NAMED sources? They were recently thrown out of China like dogs, and obviously want back in. Sad!    \n",
       "3    Governor @GavinNewsom of California has been very nice &amp; highly supportive about the great job we have done, working together, for California. That is the good news, but this is the bad. He is unfairly under attack by the Radical Left Dems, MSDNC etc. He is strong! Will he fold?\n",
       "4    I will be watching. HAVE A GREAT EASTER!                                                                                                                                                                                                                                                   \n",
       "5    The Wall Street Journal Editorial Board doesn’t have a clue on how to fight and win. Their views on Tariffs & Trade are losers for the U.S., but winners for other countries, including China. If we followed their standards, we’d have no Country left. They should love Sleepy Joe!     \n",
       "6    Watching @FoxNews on weekend afternoons is a total waste of time. We now have some great alternatives, like @OANN.                                                                                                                                                                         \n",
       "7    “The President and the Federal Government are doing an excellent job. When they say the death toll isn’t going to be as high as reported, they (the opposition) act like they’re sad because it’s lower. I think they are (Press Conferences) wonderful.” West Virginia Resident, C Span   \n",
       "8    Great editorial by @SenRonJohnson!                                                                                                                                                                                                                                                         \n",
       "9    Wishing all a safe and blessed Easter Sunday. I will be tuning into Pastor @robertjeffress at http://firstdallas.org/liveworship Church in Dallas, Texas tomorrow morning at 10:20 AM Eastern.                                                                                             \n",
       "10   WE WILL BUILD IT AGAIN!                                                                                                                                                                                                                                                                    \n",
       "11   ....Does anyone ever notice how few quotes from an actual person are given nowadays by the Lamestream Media. Very seldom. The unnamed or anonymous sources are almost always FAKE NEWS.                                                                                                    \n",
       "12   When the Failing @nytimes or Amazon @washingtonpost writes a story saying “unnamed sources said”, or any such phrase where a person’s name is not used, don’t believe them. Most of these unnamed sources don’t exist. They are made up to defame &amp; disparage. They have no “source”...\n",
       "13   ....economy was shuttered. This is unprecedented, it is unsettling and challenging but, we will rise to meet the occasion.” MACK MCLARTY, Clinton White House Chief of Staff. @LelandVittert @FoxNews Thank you Mack. We will be bigger, better and stronger than ever before!             \n",
       "14   “I think the situation is unprecedented, and there is no question about that. It’s whiplash! The economy was moving forward at a rapid pace in terms of growth, jobs and even wage increases, and all of a sudden the pandemic hit and the....                                             \n",
       "15   “Trump did a deal with Japan. A lot of our product goes to Japan, and we are booming in North Dakota.” Jim on C Span, Washington Journal. Our Trade Deals will be having a big impact on our Country as they kick in!                                                                      \n",
       "16                                                                                                                                                                                                                                                                                              \n",
       "17   Nobody wants to say that if Elizabeth Warren gets out of the race before Super Tuesday, Crazy Bernie Sanders wins virtually every state in a blowout...NOT EVEN CLOSE! I haven’t heard one member of the Fake News Establishment even mention this irrefutable fact. FAKE NEWS!            \n",
       "18   The Invisible Enemy will soon be in full retreat!                                                                                                                                                                                                                                          \n",
       "19   Because the T.V. Ratings for the White House News Conference’s are the highest, the Opposition Party (Lamestream Media), the Radical Left, Do Nothing Democrats &, of course, the few remaining RINO’S, are doing everything in their power to disparage & end them. The People’s Voice!   \n",
       "20   The White House Press Conference will take place today at 1:00 P.M., recognizing that it is Good Friday!                                                                                                                                                                                   \n",
       "21   HAPPY GOOD FRIDAY TO ALL!                                                                                                                                                                                                                                                                  \n",
       "22   Wow, Approval Rating in the Republican Party - 96%. Thank you!                                                                                                                                                                                                                             \n",
       "23   Not good Gregg, but it is what it is. Have to save the airlines!                                                                                                                                                                                                                           \n",
       "24   Congress must go back to DEDUCTIBILITY by businesses if Restaurants, Clubs & Entertaiment is expected to flourish (like never before)!                                                                                                                                                     \n",
       "25   Democrats are blocking a 251 Billion Dollar funding boost for Small Businesses which will help them keep their employees. It should be for only that reason, with no additions. We should have a big Infrastructure Phase Four with Payroll Tax Cuts & more. Big Economic Bounceback!      \n",
       "26   This week, in only 4 days, we had the biggest Stock Market increase since 1974. We have a great chance for the really big bounce when the Invisible Enemy is gone!                                                                                                                         \n",
       "27   Tim Scott is Great!                                                                                                                                                                                                                                                                        \n",
       "28   Thank you Frank. It’s ABC Fake News. They knew they were wrong when they went with this Hoax of a story!                                                                                                                                                                                   \n",
       "29   Thank you Erin!                                                                                                                                                                                                                                                                            \n",
       "30   ....We will always be there for our Great Farmers, Cattlemen, Ranchers, and Producers!                                                                                                                                                                                                     \n",
       "⋮    ⋮                                                                                                                                                                                                                                                                                          \n",
       "1280 ....hundreds of Iranian protesters. He was already attacking our Embassy, and preparing for additional hits in other locations. Iran has been nothing but problems for many years. Let this serve as a WARNING that if Iran strikes any Americans, or American assets, we have.....        \n",
       "1281 Iran is talking very boldly about targeting certain USA assets as revenge for our ridding the world of their terrorist leader who had just killed an American, & badly wounded many others, not to mention all of the people he had killed over his lifetime, including recently....       \n",
       "1282 As hard as I work, & as successful as our Country has become with our Economy, our Military & everything else, it is ashame that the Democrats make us spend so much time & money on this ridiculous Impeachment Lite Hoax. I should be able to devote all of my time to the REAL USA!     \n",
       "1283 95% Approval Rating in the Republican Party. Thank you!                                                                                                                                                                                                                                    \n",
       "1284                                                                                                                                                                                                                                                                                            \n",
       "1285 ....followed, and then it was withdrawn. The Democrats argument for impeachment has not gotten stronger over the last few weeks. As Senator Josh Hawley just said, he’s going to enter a Motion to Dismiss the Impeachment Trial because it’s never actually been brought to trial.”       \n",
       "1286 ....different places that he thought were wasteful, and the career staff, as they always do, pushed back, and made a million excuses as to why they could not possibly stop spending U.S. taxpayer money. There was a back & forth over the legal arguments, & the W.H. decision was....   \n",
       "1287 Christopher Bedford, The Federalist Senior Editor. “There is NOTHING NEW in these Emails at all that’s been discovered. It’s exactly what we knew before, which is that the White House & political figures wanted to cut off aid, Trump wanted to question aid to a number of....         \n",
       "1288 This is a great book, a must read!                                                                                                                                                                                                                                                         \n",
       "1289 ....and more control over Iraq, and the people of Iraq are not happy with that. It will never end well!                                                                                                                                                                                    \n",
       "1290 The United States has paid Iraq Billions of Dollars a year, for many years. That is on top of all else we have done for them. The people of Iraq don’t want to be dominated & controlled by Iran, but ultimately, that is their choice. Over the last 15 years, Iran has gained more....   \n",
       "1291 ....of PROTESTERS killed in Iran itself. While Iran will never be able to properly admit it, Soleimani was both hated and feared within the country. They are not nearly as saddened as the leaders will let the outside world believe. He should have been taken out many years ago!      \n",
       "1292 General Qassem Soleimani has killed or badly wounded thousands of Americans over an extended period of time, and was plotting to kill many more...but got caught! He was directly and indirectly responsible for the death of millions of people, including the recent large number....    \n",
       "1293 Iran never won a war, but never lost a negotiation!                                                                                                                                                                                                                                        \n",
       "1294                                                                                                                                                                                                                                                                                            \n",
       "1295 ....had happened to a Presidential candidate, or President, who was a Democrat, everybody involved would long ago be in jail for treason (and more), and it would be considered the CRIME OF THE CENTURY, far bigger and more sinister than Watergate!                                     \n",
       "1296 A lot of very good people were taken down by a small group of Dirty (Filthy) Cops, politicians, government officials, and an investigation that was illegally started & that SPIED on my campaign. The Witch Hunt is sputtering badly, but still going on (Ukraine Hoax!). If this....     \n",
       "1297 ....it’s alienating independents. This President is being persecuted over three years with one investigation after another, and that really plays to his base.” @FoxNews @cvpayne Their partisan Witch Hunt is hurting our Country do badly, &amp; only bringing more division than ever!  \n",
       "1298 Sohrab Ahmari, New York Post “The Trump Campaign raised $10 million in the two days following the impeachment (Scam) vote. It seems the Democrats have shot themselves in the foot in one more way. They set up a process they know is not going to lead to the Presidents removal, &...   \n",
       "1299 They don’t know how to do that!                                                                                                                                                                                                                                                            \n",
       "1300 Great job!                                                                                                                                                                                                                                                                                 \n",
       "1301 Can’t believe @ATT keeps the management after yet another @CNN ratings dive. Nobody watching, NO CREDIBILITY! Maybe they should make changes at AT&amp;T?                                                                                                                                  \n",
       "1302 Too bad, Corey would have won! He (and I) loves New Hampshire.                                                                                                                                                                                                                             \n",
       "1303 Best equipment & finest military in the World. On site quickly!                                                                                                                                                                                                                            \n",
       "1304                                                                                                                                                                                                                                                                                            \n",
       "1305 HAPPY NEW YEAR!                                                                                                                                                                                                                                                                            \n",
       "1306 Our fantastic First Lady!                                                                                                                                                                                                                                                                  \n",
       "1307 Thank you Steve. The greatest Witch Hunt in U.S. history!                                                                                                                                                                                                                                  \n",
       "1308 Thank you to the @dcexaminer Washington Examiner. The list is growing every day!                                                                                                                                                                                                           \n",
       "1309 One of my greatest honors was to have gotten CHOICE approved for our great Veterans. Others have tried for decades, and failed!                                                                                                                                                            "
      ]
     },
     "metadata": {},
     "output_type": "display_data"
    }
   ],
   "source": [
    "# Replace '$' with '' wherever it occurs\n",
    "trumpTweets$Text <- gsub('\\\\$','',trumpTweets$Text)\n",
    "\n",
    "# Address encoding issues\n",
    "\n",
    "# Replace '&amp;' with '&'\n",
    "trumpTweets$Text <- gsub('&amp;','&',trumpTweets$Text)\n",
    "\n",
    "# Replace '‚Äú' with '\"'\n",
    "trumpTweets$Text <- gsub('‚Äú','\"',trumpTweets$Text)\n",
    "\n",
    "# Replace '‚Äô' with '''\n",
    "trumpTweets$Text <- gsub('‚Äô',\"'\",trumpTweets$Text)\n",
    "\n",
    "# Replace '‚Äì' with ''\n",
    "trumpTweets$Text <- gsub('‚Äì','',trumpTweets$Text)\n",
    "\n",
    "\n",
    "tweets"
   ]
  },
  {
   "cell_type": "markdown",
   "metadata": {},
   "source": [
    "### Augmenting `bing`"
   ]
  },
  {
   "cell_type": "code",
   "execution_count": 12,
   "metadata": {},
   "outputs": [],
   "source": [
    "# Tokenize\n",
    "tokens <- tibble(text=trumpTweets$Text) %>% unnest_tokens(word,text)"
   ]
  },
  {
   "cell_type": "code",
   "execution_count": 13,
   "metadata": {},
   "outputs": [],
   "source": [
    "# Create a database containing all words in the sentiment lexicon\n",
    "# We are using bing.\n",
    "bingWords <- get_sentiments('bing')[,1]"
   ]
  },
  {
   "cell_type": "code",
   "execution_count": 14,
   "metadata": {
    "scrolled": true
   },
   "outputs": [
    {
     "name": "stderr",
     "output_type": "stream",
     "text": [
      "Joining, by = \"word\"\n",
      "\n",
      "Joining, by = \"word\"\n",
      "\n"
     ]
    }
   ],
   "source": [
    "# Identify non-stop words that do not occur in bing\n",
    "wordsByFreq <- tokens %>%\n",
    "  anti_join(stop_words) %>%  # Remove stop words\n",
    "  anti_join(bingWords) %>%   # Remove words in bing\n",
    "  count(word,sort=T)         # Sort by frequency of each word"
   ]
  },
  {
   "cell_type": "code",
   "execution_count": 15,
   "metadata": {},
   "outputs": [
    {
     "data": {
      "text/html": [
       "<table>\n",
       "<caption>A tibble: 3438 × 2</caption>\n",
       "<thead>\n",
       "\t<tr><th scope=col>word</th><th scope=col>n</th></tr>\n",
       "\t<tr><th scope=col>&lt;chr&gt;</th><th scope=col>&lt;int&gt;</th></tr>\n",
       "</thead>\n",
       "<tbody>\n",
       "\t<tr><td>news       </td><td>119</td></tr>\n",
       "\t<tr><td>people     </td><td>104</td></tr>\n",
       "\t<tr><td>democrats  </td><td> 94</td></tr>\n",
       "\t<tr><td>president  </td><td> 86</td></tr>\n",
       "\t<tr><td>house      </td><td> 72</td></tr>\n",
       "\t<tr><td>foxnews    </td><td> 66</td></tr>\n",
       "\t<tr><td>impeachment</td><td> 65</td></tr>\n",
       "\t<tr><td>american   </td><td> 63</td></tr>\n",
       "\t<tr><td>bernie     </td><td> 58</td></tr>\n",
       "\t<tr><td>mike       </td><td> 57</td></tr>\n",
       "\t<tr><td>mini       </td><td> 57</td></tr>\n",
       "\t<tr><td>country    </td><td> 56</td></tr>\n",
       "\t<tr><td>democrat   </td><td> 56</td></tr>\n",
       "\t<tr><td>job        </td><td> 55</td></tr>\n",
       "\t<tr><td>party      </td><td> 54</td></tr>\n",
       "\t<tr><td>coronavirus</td><td> 50</td></tr>\n",
       "\t<tr><td>time       </td><td> 50</td></tr>\n",
       "\t<tr><td>military   </td><td> 49</td></tr>\n",
       "\t<tr><td>america    </td><td> 48</td></tr>\n",
       "\t<tr><td>republican </td><td> 46</td></tr>\n",
       "\t<tr><td>united     </td><td> 43</td></tr>\n",
       "\t<tr><td>history    </td><td> 42</td></tr>\n",
       "\t<tr><td>congress   </td><td> 41</td></tr>\n",
       "\t<tr><td>don’t      </td><td> 40</td></tr>\n",
       "\t<tr><td>federal    </td><td> 38</td></tr>\n",
       "\t<tr><td>vote       </td><td> 38</td></tr>\n",
       "\t<tr><td>dems       </td><td> 37</td></tr>\n",
       "\t<tr><td>usa        </td><td> 36</td></tr>\n",
       "\t<tr><td>china      </td><td> 35</td></tr>\n",
       "\t<tr><td>iran       </td><td> 35</td></tr>\n",
       "\t<tr><td>⋮</td><td>⋮</td></tr>\n",
       "\t<tr><td>बड़े     </td><td>1</td></tr>\n",
       "\t<tr><td>भविष्य  </td><td>1</td></tr>\n",
       "\t<tr><td>मजबूत   </td><td>1</td></tr>\n",
       "\t<tr><td>महिला  </td><td>1</td></tr>\n",
       "\t<tr><td>मिलेंगे   </td><td>1</td></tr>\n",
       "\t<tr><td>मील    </td><td>1</td></tr>\n",
       "\t<tr><td>यह     </td><td>1</td></tr>\n",
       "\t<tr><td>यहां    </td><td>1</td></tr>\n",
       "\t<tr><td>रहेंगे    </td><td>1</td></tr>\n",
       "\t<tr><td>रास्ते   </td><td>1</td></tr>\n",
       "\t<tr><td>लगा    </td><td>1</td></tr>\n",
       "\t<tr><td>लोग    </td><td>1</td></tr>\n",
       "\t<tr><td>वालों   </td><td>1</td></tr>\n",
       "\t<tr><td>विस्तार </td><td>1</td></tr>\n",
       "\t<tr><td>शुरुआत   </td><td>1</td></tr>\n",
       "\t<tr><td>सकें     </td><td>1</td></tr>\n",
       "\t<tr><td>सच्चे    </td><td>1</td></tr>\n",
       "\t<tr><td>सद्भावना</td><td>1</td></tr>\n",
       "\t<tr><td>सन्देश   </td><td>1</td></tr>\n",
       "\t<tr><td>सपने    </td><td>1</td></tr>\n",
       "\t<tr><td>सबसे    </td><td>1</td></tr>\n",
       "\t<tr><td>सम्पन्न  </td><td>1</td></tr>\n",
       "\t<tr><td>सम्मान  </td><td>1</td></tr>\n",
       "\t<tr><td>सांझेदारी</td><td>1</td></tr>\n",
       "\t<tr><td>साथ    </td><td>1</td></tr>\n",
       "\t<tr><td>से      </td><td>1</td></tr>\n",
       "\t<tr><td>हमेशा   </td><td>1</td></tr>\n",
       "\t<tr><td>हर     </td><td>1</td></tr>\n",
       "\t<tr><td>हूँ      </td><td>1</td></tr>\n",
       "\t<tr><td>हैँ      </td><td>1</td></tr>\n",
       "</tbody>\n",
       "</table>\n"
      ],
      "text/latex": [
       "A tibble: 3438 × 2\n",
       "\\begin{tabular}{ll}\n",
       " word & n\\\\\n",
       " <chr> & <int>\\\\\n",
       "\\hline\n",
       "\t news        & 119\\\\\n",
       "\t people      & 104\\\\\n",
       "\t democrats   &  94\\\\\n",
       "\t president   &  86\\\\\n",
       "\t house       &  72\\\\\n",
       "\t foxnews     &  66\\\\\n",
       "\t impeachment &  65\\\\\n",
       "\t american    &  63\\\\\n",
       "\t bernie      &  58\\\\\n",
       "\t mike        &  57\\\\\n",
       "\t mini        &  57\\\\\n",
       "\t country     &  56\\\\\n",
       "\t democrat    &  56\\\\\n",
       "\t job         &  55\\\\\n",
       "\t party       &  54\\\\\n",
       "\t coronavirus &  50\\\\\n",
       "\t time        &  50\\\\\n",
       "\t military    &  49\\\\\n",
       "\t america     &  48\\\\\n",
       "\t republican  &  46\\\\\n",
       "\t united      &  43\\\\\n",
       "\t history     &  42\\\\\n",
       "\t congress    &  41\\\\\n",
       "\t don’t       &  40\\\\\n",
       "\t federal     &  38\\\\\n",
       "\t vote        &  38\\\\\n",
       "\t dems        &  37\\\\\n",
       "\t usa         &  36\\\\\n",
       "\t china       &  35\\\\\n",
       "\t iran        &  35\\\\\n",
       "\t ⋮ & ⋮\\\\\n",
       "\t बड़े      & 1\\\\\n",
       "\t भविष्य   & 1\\\\\n",
       "\t मजबूत    & 1\\\\\n",
       "\t महिला   & 1\\\\\n",
       "\t मिलेंगे    & 1\\\\\n",
       "\t मील     & 1\\\\\n",
       "\t यह      & 1\\\\\n",
       "\t यहां     & 1\\\\\n",
       "\t रहेंगे     & 1\\\\\n",
       "\t रास्ते    & 1\\\\\n",
       "\t लगा     & 1\\\\\n",
       "\t लोग     & 1\\\\\n",
       "\t वालों    & 1\\\\\n",
       "\t विस्तार  & 1\\\\\n",
       "\t शुरुआत    & 1\\\\\n",
       "\t सकें      & 1\\\\\n",
       "\t सच्चे     & 1\\\\\n",
       "\t सद्भावना & 1\\\\\n",
       "\t सन्देश    & 1\\\\\n",
       "\t सपने     & 1\\\\\n",
       "\t सबसे     & 1\\\\\n",
       "\t सम्पन्न   & 1\\\\\n",
       "\t सम्मान   & 1\\\\\n",
       "\t सांझेदारी & 1\\\\\n",
       "\t साथ     & 1\\\\\n",
       "\t से       & 1\\\\\n",
       "\t हमेशा    & 1\\\\\n",
       "\t हर      & 1\\\\\n",
       "\t हूँ       & 1\\\\\n",
       "\t हैँ       & 1\\\\\n",
       "\\end{tabular}\n"
      ],
      "text/markdown": [
       "\n",
       "A tibble: 3438 × 2\n",
       "\n",
       "| word &lt;chr&gt; | n &lt;int&gt; |\n",
       "|---|---|\n",
       "| news        | 119 |\n",
       "| people      | 104 |\n",
       "| democrats   |  94 |\n",
       "| president   |  86 |\n",
       "| house       |  72 |\n",
       "| foxnews     |  66 |\n",
       "| impeachment |  65 |\n",
       "| american    |  63 |\n",
       "| bernie      |  58 |\n",
       "| mike        |  57 |\n",
       "| mini        |  57 |\n",
       "| country     |  56 |\n",
       "| democrat    |  56 |\n",
       "| job         |  55 |\n",
       "| party       |  54 |\n",
       "| coronavirus |  50 |\n",
       "| time        |  50 |\n",
       "| military    |  49 |\n",
       "| america     |  48 |\n",
       "| republican  |  46 |\n",
       "| united      |  43 |\n",
       "| history     |  42 |\n",
       "| congress    |  41 |\n",
       "| don’t       |  40 |\n",
       "| federal     |  38 |\n",
       "| vote        |  38 |\n",
       "| dems        |  37 |\n",
       "| usa         |  36 |\n",
       "| china       |  35 |\n",
       "| iran        |  35 |\n",
       "| ⋮ | ⋮ |\n",
       "| बड़े      | 1 |\n",
       "| भविष्य   | 1 |\n",
       "| मजबूत    | 1 |\n",
       "| महिला   | 1 |\n",
       "| मिलेंगे    | 1 |\n",
       "| मील     | 1 |\n",
       "| यह      | 1 |\n",
       "| यहां     | 1 |\n",
       "| रहेंगे     | 1 |\n",
       "| रास्ते    | 1 |\n",
       "| लगा     | 1 |\n",
       "| लोग     | 1 |\n",
       "| वालों    | 1 |\n",
       "| विस्तार  | 1 |\n",
       "| शुरुआत    | 1 |\n",
       "| सकें      | 1 |\n",
       "| सच्चे     | 1 |\n",
       "| सद्भावना | 1 |\n",
       "| सन्देश    | 1 |\n",
       "| सपने     | 1 |\n",
       "| सबसे     | 1 |\n",
       "| सम्पन्न   | 1 |\n",
       "| सम्मान   | 1 |\n",
       "| सांझेदारी | 1 |\n",
       "| साथ     | 1 |\n",
       "| से       | 1 |\n",
       "| हमेशा    | 1 |\n",
       "| हर      | 1 |\n",
       "| हूँ       | 1 |\n",
       "| हैँ       | 1 |\n",
       "\n"
      ],
      "text/plain": [
       "     word        n  \n",
       "1    news        119\n",
       "2    people      104\n",
       "3    democrats    94\n",
       "4    president    86\n",
       "5    house        72\n",
       "6    foxnews      66\n",
       "7    impeachment  65\n",
       "8    american     63\n",
       "9    bernie       58\n",
       "10   mike         57\n",
       "11   mini         57\n",
       "12   country      56\n",
       "13   democrat     56\n",
       "14   job          55\n",
       "15   party        54\n",
       "16   coronavirus  50\n",
       "17   time         50\n",
       "18   military     49\n",
       "19   america      48\n",
       "20   republican   46\n",
       "21   united       43\n",
       "22   history      42\n",
       "23   congress     41\n",
       "24   don’t        40\n",
       "25   federal      38\n",
       "26   vote         38\n",
       "27   dems         37\n",
       "28   usa          36\n",
       "29   china        35\n",
       "30   iran         35\n",
       "⋮    ⋮           ⋮  \n",
       "3409 बड़े          1  \n",
       "3410 भविष्य       1  \n",
       "3411 मजबूत        1  \n",
       "3412 महिला       1  \n",
       "3413 मिलेंगे        1  \n",
       "3414 मील         1  \n",
       "3415 यह          1  \n",
       "3416 यहां         1  \n",
       "3417 रहेंगे         1  \n",
       "3418 रास्ते        1  \n",
       "3419 लगा         1  \n",
       "3420 लोग         1  \n",
       "3421 वालों        1  \n",
       "3422 विस्तार      1  \n",
       "3423 शुरुआत        1  \n",
       "3424 सकें          1  \n",
       "3425 सच्चे         1  \n",
       "3426 सद्भावना     1  \n",
       "3427 सन्देश        1  \n",
       "3428 सपने         1  \n",
       "3429 सबसे         1  \n",
       "3430 सम्पन्न       1  \n",
       "3431 सम्मान       1  \n",
       "3432 सांझेदारी     1  \n",
       "3433 साथ         1  \n",
       "3434 से           1  \n",
       "3435 हमेशा        1  \n",
       "3436 हर          1  \n",
       "3437 हूँ           1  \n",
       "3438 हैँ           1  "
      ]
     },
     "metadata": {},
     "output_type": "display_data"
    }
   ],
   "source": [
    "wordsByFreq"
   ]
  },
  {
   "cell_type": "code",
   "execution_count": 16,
   "metadata": {},
   "outputs": [
    {
     "name": "stderr",
     "output_type": "stream",
     "text": [
      "Selecting by n\n",
      "\n"
     ]
    }
   ],
   "source": [
    "# Looks like identifying the top 100 commonest words will do\n",
    "top100 <- top_n(wordsByFreq,100)\n",
    "\n",
    "write.csv(top100,'top100.csv')"
   ]
  },
  {
   "cell_type": "code",
   "execution_count": 17,
   "metadata": {
    "scrolled": true
   },
   "outputs": [
    {
     "data": {
      "text/html": [
       "<table>\n",
       "<caption>A tibble: 6 × 2</caption>\n",
       "<thead>\n",
       "\t<tr><th scope=col>word</th><th scope=col>sentiment</th></tr>\n",
       "\t<tr><th scope=col>&lt;chr&gt;</th><th scope=col>&lt;chr&gt;</th></tr>\n",
       "</thead>\n",
       "<tbody>\n",
       "\t<tr><td>2-faces   </td><td>negative</td></tr>\n",
       "\t<tr><td>abnormal  </td><td>negative</td></tr>\n",
       "\t<tr><td>abolish   </td><td>negative</td></tr>\n",
       "\t<tr><td>abominable</td><td>negative</td></tr>\n",
       "\t<tr><td>abominably</td><td>negative</td></tr>\n",
       "\t<tr><td>abominate </td><td>negative</td></tr>\n",
       "</tbody>\n",
       "</table>\n"
      ],
      "text/latex": [
       "A tibble: 6 × 2\n",
       "\\begin{tabular}{ll}\n",
       " word & sentiment\\\\\n",
       " <chr> & <chr>\\\\\n",
       "\\hline\n",
       "\t 2-faces    & negative\\\\\n",
       "\t abnormal   & negative\\\\\n",
       "\t abolish    & negative\\\\\n",
       "\t abominable & negative\\\\\n",
       "\t abominably & negative\\\\\n",
       "\t abominate  & negative\\\\\n",
       "\\end{tabular}\n"
      ],
      "text/markdown": [
       "\n",
       "A tibble: 6 × 2\n",
       "\n",
       "| word &lt;chr&gt; | sentiment &lt;chr&gt; |\n",
       "|---|---|\n",
       "| 2-faces    | negative |\n",
       "| abnormal   | negative |\n",
       "| abolish    | negative |\n",
       "| abominable | negative |\n",
       "| abominably | negative |\n",
       "| abominate  | negative |\n",
       "\n"
      ],
      "text/plain": [
       "  word       sentiment\n",
       "1 2-faces    negative \n",
       "2 abnormal   negative \n",
       "3 abolish    negative \n",
       "4 abominable negative \n",
       "5 abominably negative \n",
       "6 abominate  negative "
      ]
     },
     "metadata": {},
     "output_type": "display_data"
    }
   ],
   "source": [
    "head(get_sentiments('bing'))"
   ]
  },
  {
   "cell_type": "markdown",
   "metadata": {},
   "source": [
    "We need to assign sentiments to each word in the dataset."
   ]
  },
  {
   "cell_type": "code",
   "execution_count": 18,
   "metadata": {},
   "outputs": [],
   "source": [
    "# Make a dataframe to hold the augmented lexicon\n",
    "bingTrump <- NULL"
   ]
  },
  {
   "cell_type": "markdown",
   "metadata": {},
   "source": [
    "### Getting the Sentiments for Each Tweet"
   ]
  },
  {
   "cell_type": "code",
   "execution_count": 41,
   "metadata": {},
   "outputs": [],
   "source": [
    "sentiments <- tibble()"
   ]
  },
  {
   "cell_type": "code",
   "execution_count": 42,
   "metadata": {},
   "outputs": [
    {
     "data": {
      "text/html": [
       "1309"
      ],
      "text/latex": [
       "1309"
      ],
      "text/markdown": [
       "1309"
      ],
      "text/plain": [
       "[1] 1309"
      ]
     },
     "metadata": {},
     "output_type": "display_data"
    }
   ],
   "source": [
    "nrow(trumpTweets)"
   ]
  },
  {
   "cell_type": "code",
   "execution_count": 43,
   "metadata": {},
   "outputs": [
    {
     "name": "stderr",
     "output_type": "stream",
     "text": [
      "Joining, by = \"word\"\n",
      "\n"
     ]
    }
   ],
   "source": [
    "for (i in nrow(trumpTweets)){\n",
    "    \n",
    "    tokens <- tibble(text=trumpTweets$Text[i]) %>% unnest_tokens(word,text)\n",
    "    \n",
    "    newRow <- tokens %>%\n",
    "      inner_join(get_sentiments('bing')) %>% \n",
    "      count(sentiment) %>%\n",
    "      spread(sentiment,n,fill=0) %>%\n",
    "      mutate(sentiment=positive-negative) %>% \n",
    "      mutate(DateTime=trumpTweets$DateTime[i]) %>%\n",
    "      mutate(Text=trumpTweets$Text[i])\n",
    "    \n",
    "    sentiments <- rbind(sentiments,newRow)\n",
    "    \n",
    "}"
   ]
  },
  {
   "cell_type": "code",
   "execution_count": 36,
   "metadata": {},
   "outputs": [
    {
     "data": {
      "text/html": [
       "<table>\n",
       "<caption>A tibble: 1 × 5</caption>\n",
       "<thead>\n",
       "\t<tr><th scope=col>negative</th><th scope=col>positive</th><th scope=col>sentiment</th><th scope=col>DateTime</th><th scope=col>Text</th></tr>\n",
       "\t<tr><th scope=col>&lt;dbl&gt;</th><th scope=col>&lt;dbl&gt;</th><th scope=col>&lt;dbl&gt;</th><th scope=col>&lt;fct&gt;</th><th scope=col>&lt;chr&gt;</th></tr>\n",
       "</thead>\n",
       "<tbody>\n",
       "\t<tr><td>1</td><td>2</td><td>1</td><td>2020-01-01 00:55:01+00:00</td><td>One of my greatest honors was to have gotten CHOICE approved for our great Veterans. Others have tried for decades, and failed!</td></tr>\n",
       "</tbody>\n",
       "</table>\n"
      ],
      "text/latex": [
       "A tibble: 1 × 5\n",
       "\\begin{tabular}{lllll}\n",
       " negative & positive & sentiment & DateTime & Text\\\\\n",
       " <dbl> & <dbl> & <dbl> & <fct> & <chr>\\\\\n",
       "\\hline\n",
       "\t 1 & 2 & 1 & 2020-01-01 00:55:01+00:00 & One of my greatest honors was to have gotten CHOICE approved for our great Veterans. Others have tried for decades, and failed!\\\\\n",
       "\\end{tabular}\n"
      ],
      "text/markdown": [
       "\n",
       "A tibble: 1 × 5\n",
       "\n",
       "| negative &lt;dbl&gt; | positive &lt;dbl&gt; | sentiment &lt;dbl&gt; | DateTime &lt;fct&gt; | Text &lt;chr&gt; |\n",
       "|---|---|---|---|---|\n",
       "| 1 | 2 | 1 | 2020-01-01 00:55:01+00:00 | One of my greatest honors was to have gotten CHOICE approved for our great Veterans. Others have tried for decades, and failed! |\n",
       "\n"
      ],
      "text/plain": [
       "  negative positive sentiment DateTime                 \n",
       "1 1        2        1         2020-01-01 00:55:01+00:00\n",
       "  Text                                                                                                                           \n",
       "1 One of my greatest honors was to have gotten CHOICE approved for our great Veterans. Others have tried for decades, and failed!"
      ]
     },
     "metadata": {},
     "output_type": "display_data"
    }
   ],
   "source": [
    "sentiments"
   ]
  },
  {
   "cell_type": "markdown",
   "metadata": {},
   "source": [
    "## Future Work"
   ]
  },
  {
   "cell_type": "code",
   "execution_count": 7,
   "metadata": {
    "slideshow": {
     "slide_type": "-"
    }
   },
   "outputs": [],
   "source": [
    "testCase <- 'one two ‚Äú buckle my shoe'"
   ]
  },
  {
   "cell_type": "code",
   "execution_count": 8,
   "metadata": {},
   "outputs": [],
   "source": [
    "testCase <- gsub('‚Äú','',testCase)"
   ]
  },
  {
   "cell_type": "code",
   "execution_count": 9,
   "metadata": {},
   "outputs": [
    {
     "data": {
      "text/html": [
       "<span style=white-space:pre-wrap>'one two  buckle my shoe'</span>"
      ],
      "text/latex": [
       "'one two  buckle my shoe'"
      ],
      "text/markdown": [
       "<span style=white-space:pre-wrap>'one two  buckle my shoe'</span>"
      ],
      "text/plain": [
       "[1] \"one two  buckle my shoe\""
      ]
     },
     "metadata": {},
     "output_type": "display_data"
    }
   ],
   "source": [
    "testCase"
   ]
  },
  {
   "cell_type": "markdown",
   "metadata": {},
   "source": [
    "* Encoding issue in tweet text"
   ]
  }
 ],
 "metadata": {
  "celltoolbar": "Slideshow",
  "kernelspec": {
   "display_name": "R",
   "language": "R",
   "name": "ir"
  },
  "language_info": {
   "codemirror_mode": "r",
   "file_extension": ".r",
   "mimetype": "text/x-r-source",
   "name": "R",
   "pygments_lexer": "r",
   "version": "3.6.3"
  }
 },
 "nbformat": 4,
 "nbformat_minor": 4
}
