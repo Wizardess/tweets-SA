{
 "cells": [
  {
   "cell_type": "markdown",
   "metadata": {},
   "source": [
    "This notebook follows Rachael Tatman's [Tutorial: Sentiment Analysis in R](https://www.kaggle.com/rtatman/tutorial-sentiment-analysis-in-r)."
   ]
  },
  {
   "cell_type": "markdown",
   "metadata": {},
   "source": [
    "# Introduction"
   ]
  },
  {
   "cell_type": "code",
   "execution_count": 57,
   "metadata": {},
   "outputs": [],
   "source": [
    "library(tidyverse)\n",
    "library(tidytext)\n",
    "library(glue)\n",
    "library(stringr)"
   ]
  },
  {
   "cell_type": "markdown",
   "metadata": {},
   "source": [
    "The dataset can be found at the bottom of the tutorial. It is a .zip file. I made a subfolder to the folder that this notebook lives in and called it 'input' to match the tutorial."
   ]
  },
  {
   "cell_type": "markdown",
   "metadata": {},
   "source": [
    "Let's get a list of the files in the input directory so that we know what file names our dataset is stored under."
   ]
  },
  {
   "cell_type": "code",
   "execution_count": 58,
   "metadata": {},
   "outputs": [],
   "source": [
    "files <- list.files('./input/')\n",
    "  # The tutorial uses the path '../input/' but './input/' is correct."
   ]
  },
  {
   "cell_type": "markdown",
   "metadata": {},
   "source": [
    "Now consider the first file in the list. We'll tokenize it, i.e. break it into individual words."
   ]
  },
  {
   "cell_type": "code",
   "execution_count": 59,
   "metadata": {},
   "outputs": [],
   "source": [
    "# Store the first file's path via glue\n",
    "fileName <- glue('./input/',files[1],sep=\"\")\n",
    "  # sep=\"\" tells glue() to stick the arguments together without inserting anything in between.\n",
    "  # Notice that the first element of a list has position 1 instead of position 0.\n",
    "\n",
    "# Remove trailing spaces\n",
    "fileName <- trimws(fileName)"
   ]
  },
  {
   "cell_type": "markdown",
   "metadata": {},
   "source": [
    "Now we're ready to extract the text from the first file."
   ]
  },
  {
   "cell_type": "code",
   "execution_count": 60,
   "metadata": {},
   "outputs": [],
   "source": [
    "# Extract text from the first file\n",
    "fileText <- glue(read_file(fileName))"
   ]
  },
  {
   "cell_type": "markdown",
   "metadata": {},
   "source": [
    "The symbol $ is a special character in R signifying the end of a string. We need to make sure to remove them."
   ]
  },
  {
   "cell_type": "code",
   "execution_count": 61,
   "metadata": {},
   "outputs": [],
   "source": [
    "# Replace '$' with '' in `fileText`.\n",
    "fileText <- gsub('\\\\$','',fileText)"
   ]
  },
  {
   "cell_type": "markdown",
   "metadata": {},
   "source": [
    "Now we're ready to tokenize the text."
   ]
  },
  {
   "cell_type": "code",
   "execution_count": 62,
   "metadata": {},
   "outputs": [],
   "source": [
    "tokens <- tibble(text=fileText) %>% unnest_tokens(word, text)"
   ]
  },
  {
   "cell_type": "markdown",
   "metadata": {},
   "source": [
    "Firstly, I'm using `tibble()` instead of `data_frame()` because the latter is depreciated in favor of the former.\n",
    "\n",
    "`%>%` is an infix operator not defined in base R, but used in dplyr (one of the packages loaded by tidyverse) as a pipe, passing the lefthand side to the first argument of the function on the right.\n",
    "\n",
    "The lefthand side is `tibble(text=fileText)`, which creates a dataframe with header `text`, whose entry is the value of `fileText`.\n",
    "\n",
    "This dataframe is given to `unnest_tokens()`, which separates the block of text into words. The resulting dataframe `tokens` has header `word`; each entry in the dataframe is a word, presented in the order in which they occur. The punctuation and spaces are stripped."
   ]
  },
  {
   "cell_type": "markdown",
   "metadata": {},
   "source": [
    "Now we can take the list (actually a dataframe) of tokens and assign each a sentiment value. There are dictionaries of words where this is already done for us; these dictionaries are called \"sentiment lexicons\".\n",
    "\n",
    "The tidytext package comes with some sentiment lexicons. The tutorial uses the \"bing\" list."
   ]
  },
  {
   "cell_type": "markdown",
   "metadata": {},
   "source": [
    "Let's get the sentiment from the first text."
   ]
  },
  {
   "cell_type": "code",
   "execution_count": 63,
   "metadata": {
    "scrolled": true
   },
   "outputs": [
    {
     "name": "stderr",
     "output_type": "stream",
     "text": [
      "Joining, by = \"word\"\n",
      "\n"
     ]
    },
    {
     "data": {
      "text/html": [
       "<table>\n",
       "<caption>A tibble: 1 × 3</caption>\n",
       "<thead>\n",
       "\t<tr><th scope=col>negative</th><th scope=col>positive</th><th scope=col>sentiment</th></tr>\n",
       "\t<tr><th scope=col>&lt;dbl&gt;</th><th scope=col>&lt;dbl&gt;</th><th scope=col>&lt;dbl&gt;</th></tr>\n",
       "</thead>\n",
       "<tbody>\n",
       "\t<tr><td>59</td><td>89</td><td>30</td></tr>\n",
       "</tbody>\n",
       "</table>\n"
      ],
      "text/latex": [
       "A tibble: 1 × 3\n",
       "\\begin{tabular}{lll}\n",
       " negative & positive & sentiment\\\\\n",
       " <dbl> & <dbl> & <dbl>\\\\\n",
       "\\hline\n",
       "\t 59 & 89 & 30\\\\\n",
       "\\end{tabular}\n"
      ],
      "text/markdown": [
       "\n",
       "A tibble: 1 × 3\n",
       "\n",
       "| negative &lt;dbl&gt; | positive &lt;dbl&gt; | sentiment &lt;dbl&gt; |\n",
       "|---|---|---|\n",
       "| 59 | 89 | 30 |\n",
       "\n"
      ],
      "text/plain": [
       "  negative positive sentiment\n",
       "1 59       89       30       "
      ]
     },
     "metadata": {},
     "output_type": "display_data"
    }
   ],
   "source": [
    "tokens %>%\n",
    "  inner_join(get_sentiments('bing')) %>%  # Uses only words in bing\n",
    "  count(sentiment) %>%                    # Tally words by sentiment (+ or -)\n",
    "  spread(sentiment,n,fill=0) %>%          # Make data wide rather than narrow\n",
    "  mutate(sentiment=positive-negative)     # Total number of + words minus number - words"
   ]
  },
  {
   "cell_type": "markdown",
   "metadata": {},
   "source": [
    "There's a problem. Rachel got 117 negative, 240 positive for sentiment of 123...\n",
    "\n",
    "It's positive her list is merely ordered differently."
   ]
  },
  {
   "cell_type": "markdown",
   "metadata": {},
   "source": [
    "Next, we want to do what we did above, but to every file making up our dataset. In addition, we need to make sure we distinguish between the addresses of Bush Sr. vs W.\n",
    "\n",
    "Let's write a function!"
   ]
  },
  {
   "cell_type": "code",
   "execution_count": 64,
   "metadata": {},
   "outputs": [],
   "source": [
    "getSentiment <- function(file){\n",
    "    #' Takes the name of the file and returns the count of + words, count of - words, difference, and normalized difference'\n",
    "    \n",
    "    # Get file\n",
    "    fileName <- glue('./input/',file)\n",
    "    \n",
    "    # Remove trailing spaces\n",
    "    fileName <- trimws(fileName)\n",
    "    \n",
    "    # Extract text from the file\n",
    "    fileText <- glue(read_file(fileName))\n",
    "    \n",
    "    # Cleaning: replace '$' with '' in `fileText`.\n",
    "    fileText <- gsub('\\\\$','',fileText)\n",
    "    \n",
    "    # Tokenize\n",
    "    tokens <- tibble(text=fileText) %>% unnest_tokens(word, text)\n",
    "    \n",
    "    sentiment <- tokens %>%\n",
    "      inner_join(get_sentiments('bing')) %>%  # Uses only words in bing\n",
    "      count(sentiment) %>%                    # Tally words by sentiment (+ or -)\n",
    "      spread(sentiment,n,fill=0) %>%          # Make data wide rather than narrow\n",
    "      mutate(sentiment=positive-negative) %>% # Total number of + words minus number - words\n",
    "      mutate(file=file) %>%                   # Add the name of our file\n",
    "      mutate(year=as.numeric(str_match(file, \"\\\\d{4}\"))) %>% # Add the year\n",
    "      mutate(president=str_match(file,\"(.*?)_\")[2]) #Add president\n",
    "    \n",
    "    return(sentiment)\n",
    "\n",
    "}"
   ]
  },
  {
   "cell_type": "markdown",
   "metadata": {},
   "source": [
    "Let's test the function. We should have returned\n",
    "\n",
    "```\n",
    "negative\tpositive\tsentiment\tfile\t        year\tpresident\n",
    "117         240         123         Bush_1989.txt   1989\tBush\n",
    "```"
   ]
  },
  {
   "cell_type": "code",
   "execution_count": 65,
   "metadata": {
    "scrolled": false
   },
   "outputs": [
    {
     "name": "stderr",
     "output_type": "stream",
     "text": [
      "Joining, by = \"word\"\n",
      "\n"
     ]
    },
    {
     "data": {
      "text/html": [
       "<table>\n",
       "<caption>A tibble: 1 × 6</caption>\n",
       "<thead>\n",
       "\t<tr><th scope=col>negative</th><th scope=col>positive</th><th scope=col>sentiment</th><th scope=col>file</th><th scope=col>year</th><th scope=col>president</th></tr>\n",
       "\t<tr><th scope=col>&lt;dbl&gt;</th><th scope=col>&lt;dbl&gt;</th><th scope=col>&lt;dbl&gt;</th><th scope=col>&lt;chr&gt;</th><th scope=col>&lt;dbl&gt;</th><th scope=col>&lt;chr&gt;</th></tr>\n",
       "</thead>\n",
       "<tbody>\n",
       "\t<tr><td>59</td><td>89</td><td>30</td><td>Adams_1797.txt</td><td>1797</td><td>Adams</td></tr>\n",
       "</tbody>\n",
       "</table>\n"
      ],
      "text/latex": [
       "A tibble: 1 × 6\n",
       "\\begin{tabular}{llllll}\n",
       " negative & positive & sentiment & file & year & president\\\\\n",
       " <dbl> & <dbl> & <dbl> & <chr> & <dbl> & <chr>\\\\\n",
       "\\hline\n",
       "\t 59 & 89 & 30 & Adams\\_1797.txt & 1797 & Adams\\\\\n",
       "\\end{tabular}\n"
      ],
      "text/markdown": [
       "\n",
       "A tibble: 1 × 6\n",
       "\n",
       "| negative &lt;dbl&gt; | positive &lt;dbl&gt; | sentiment &lt;dbl&gt; | file &lt;chr&gt; | year &lt;dbl&gt; | president &lt;chr&gt; |\n",
       "|---|---|---|---|---|---|\n",
       "| 59 | 89 | 30 | Adams_1797.txt | 1797 | Adams |\n",
       "\n"
      ],
      "text/plain": [
       "  negative positive sentiment file           year president\n",
       "1 59       89       30        Adams_1797.txt 1797 Adams    "
      ]
     },
     "metadata": {},
     "output_type": "display_data"
    }
   ],
   "source": [
    "getSentiment(files[1])"
   ]
  },
  {
   "cell_type": "markdown",
   "metadata": {},
   "source": [
    "This confirms that the author's list is ordered in a different way. Yay!"
   ]
  },
  {
   "cell_type": "markdown",
   "metadata": {},
   "source": [
    "We'll want to apply the function to every file in the dataset. We'll store the results in a dataframe."
   ]
  },
  {
   "cell_type": "code",
   "execution_count": 66,
   "metadata": {},
   "outputs": [
    {
     "name": "stderr",
     "output_type": "stream",
     "text": [
      "Joining, by = \"word\"\n",
      "\n",
      "Joining, by = \"word\"\n",
      "\n",
      "Joining, by = \"word\"\n",
      "\n",
      "Joining, by = \"word\"\n",
      "\n",
      "Joining, by = \"word\"\n",
      "\n",
      "Joining, by = \"word\"\n",
      "\n",
      "Joining, by = \"word\"\n",
      "\n",
      "Joining, by = \"word\"\n",
      "\n",
      "Joining, by = \"word\"\n",
      "\n",
      "Joining, by = \"word\"\n",
      "\n",
      "Joining, by = \"word\"\n",
      "\n",
      "Joining, by = \"word\"\n",
      "\n",
      "Joining, by = \"word\"\n",
      "\n",
      "Joining, by = \"word\"\n",
      "\n",
      "Joining, by = \"word\"\n",
      "\n",
      "Joining, by = \"word\"\n",
      "\n",
      "Joining, by = \"word\"\n",
      "\n",
      "Joining, by = \"word\"\n",
      "\n",
      "Joining, by = \"word\"\n",
      "\n",
      "Joining, by = \"word\"\n",
      "\n",
      "Joining, by = \"word\"\n",
      "\n",
      "Joining, by = \"word\"\n",
      "\n",
      "Joining, by = \"word\"\n",
      "\n",
      "Joining, by = \"word\"\n",
      "\n",
      "Joining, by = \"word\"\n",
      "\n",
      "Joining, by = \"word\"\n",
      "\n",
      "Joining, by = \"word\"\n",
      "\n",
      "Joining, by = \"word\"\n",
      "\n",
      "Joining, by = \"word\"\n",
      "\n",
      "Joining, by = \"word\"\n",
      "\n",
      "Joining, by = \"word\"\n",
      "\n",
      "Joining, by = \"word\"\n",
      "\n",
      "Joining, by = \"word\"\n",
      "\n",
      "Joining, by = \"word\"\n",
      "\n",
      "Joining, by = \"word\"\n",
      "\n",
      "Joining, by = \"word\"\n",
      "\n",
      "Joining, by = \"word\"\n",
      "\n",
      "Joining, by = \"word\"\n",
      "\n",
      "Joining, by = \"word\"\n",
      "\n",
      "Joining, by = \"word\"\n",
      "\n",
      "Joining, by = \"word\"\n",
      "\n",
      "Joining, by = \"word\"\n",
      "\n",
      "Joining, by = \"word\"\n",
      "\n",
      "Joining, by = \"word\"\n",
      "\n",
      "Joining, by = \"word\"\n",
      "\n",
      "Joining, by = \"word\"\n",
      "\n",
      "Joining, by = \"word\"\n",
      "\n",
      "Joining, by = \"word\"\n",
      "\n",
      "Joining, by = \"word\"\n",
      "\n",
      "Joining, by = \"word\"\n",
      "\n",
      "Joining, by = \"word\"\n",
      "\n",
      "Joining, by = \"word\"\n",
      "\n",
      "Joining, by = \"word\"\n",
      "\n",
      "Joining, by = \"word\"\n",
      "\n",
      "Joining, by = \"word\"\n",
      "\n",
      "Joining, by = \"word\"\n",
      "\n",
      "Joining, by = \"word\"\n",
      "\n",
      "Joining, by = \"word\"\n",
      "\n",
      "Joining, by = \"word\"\n",
      "\n",
      "Joining, by = \"word\"\n",
      "\n",
      "Joining, by = \"word\"\n",
      "\n",
      "Joining, by = \"word\"\n",
      "\n",
      "Joining, by = \"word\"\n",
      "\n",
      "Joining, by = \"word\"\n",
      "\n",
      "Joining, by = \"word\"\n",
      "\n",
      "Joining, by = \"word\"\n",
      "\n",
      "Joining, by = \"word\"\n",
      "\n",
      "Joining, by = \"word\"\n",
      "\n",
      "Joining, by = \"word\"\n",
      "\n",
      "Joining, by = \"word\"\n",
      "\n",
      "Joining, by = \"word\"\n",
      "\n",
      "Joining, by = \"word\"\n",
      "\n",
      "Joining, by = \"word\"\n",
      "\n",
      "Joining, by = \"word\"\n",
      "\n",
      "Joining, by = \"word\"\n",
      "\n",
      "Joining, by = \"word\"\n",
      "\n",
      "Joining, by = \"word\"\n",
      "\n",
      "Joining, by = \"word\"\n",
      "\n",
      "Joining, by = \"word\"\n",
      "\n",
      "Joining, by = \"word\"\n",
      "\n",
      "Joining, by = \"word\"\n",
      "\n",
      "Joining, by = \"word\"\n",
      "\n",
      "Joining, by = \"word\"\n",
      "\n",
      "Joining, by = \"word\"\n",
      "\n",
      "Joining, by = \"word\"\n",
      "\n",
      "Joining, by = \"word\"\n",
      "\n",
      "Joining, by = \"word\"\n",
      "\n",
      "Joining, by = \"word\"\n",
      "\n",
      "Joining, by = \"word\"\n",
      "\n",
      "Joining, by = \"word\"\n",
      "\n",
      "Joining, by = \"word\"\n",
      "\n",
      "Joining, by = \"word\"\n",
      "\n",
      "Joining, by = \"word\"\n",
      "\n",
      "Joining, by = \"word\"\n",
      "\n",
      "Joining, by = \"word\"\n",
      "\n",
      "Joining, by = \"word\"\n",
      "\n",
      "Joining, by = \"word\"\n",
      "\n",
      "Joining, by = \"word\"\n",
      "\n",
      "Joining, by = \"word\"\n",
      "\n",
      "Joining, by = \"word\"\n",
      "\n",
      "Joining, by = \"word\"\n",
      "\n",
      "Joining, by = \"word\"\n",
      "\n",
      "Joining, by = \"word\"\n",
      "\n",
      "Joining, by = \"word\"\n",
      "\n",
      "Joining, by = \"word\"\n",
      "\n",
      "Joining, by = \"word\"\n",
      "\n",
      "Joining, by = \"word\"\n",
      "\n",
      "Joining, by = \"word\"\n",
      "\n",
      "Joining, by = \"word\"\n",
      "\n",
      "Joining, by = \"word\"\n",
      "\n",
      "Joining, by = \"word\"\n",
      "\n",
      "Joining, by = \"word\"\n",
      "\n",
      "Joining, by = \"word\"\n",
      "\n",
      "Joining, by = \"word\"\n",
      "\n",
      "Joining, by = \"word\"\n",
      "\n",
      "Joining, by = \"word\"\n",
      "\n",
      "Joining, by = \"word\"\n",
      "\n",
      "Joining, by = \"word\"\n",
      "\n",
      "Joining, by = \"word\"\n",
      "\n",
      "Joining, by = \"word\"\n",
      "\n",
      "Joining, by = \"word\"\n",
      "\n",
      "Joining, by = \"word\"\n",
      "\n",
      "Joining, by = \"word\"\n",
      "\n",
      "Joining, by = \"word\"\n",
      "\n",
      "Joining, by = \"word\"\n",
      "\n",
      "Joining, by = \"word\"\n",
      "\n",
      "Joining, by = \"word\"\n",
      "\n",
      "Joining, by = \"word\"\n",
      "\n",
      "Joining, by = \"word\"\n",
      "\n",
      "Joining, by = \"word\"\n",
      "\n",
      "Joining, by = \"word\"\n",
      "\n",
      "Joining, by = \"word\"\n",
      "\n",
      "Joining, by = \"word\"\n",
      "\n",
      "Joining, by = \"word\"\n",
      "\n",
      "Joining, by = \"word\"\n",
      "\n",
      "Joining, by = \"word\"\n",
      "\n",
      "Joining, by = \"word\"\n",
      "\n",
      "Joining, by = \"word\"\n",
      "\n",
      "Joining, by = \"word\"\n",
      "\n",
      "Joining, by = \"word\"\n",
      "\n",
      "Joining, by = \"word\"\n",
      "\n",
      "Joining, by = \"word\"\n",
      "\n",
      "Joining, by = \"word\"\n",
      "\n",
      "Joining, by = \"word\"\n",
      "\n",
      "Joining, by = \"word\"\n",
      "\n",
      "Joining, by = \"word\"\n",
      "\n",
      "Joining, by = \"word\"\n",
      "\n",
      "Joining, by = \"word\"\n",
      "\n",
      "Joining, by = \"word\"\n",
      "\n",
      "Joining, by = \"word\"\n",
      "\n",
      "Joining, by = \"word\"\n",
      "\n",
      "Joining, by = \"word\"\n",
      "\n",
      "Joining, by = \"word\"\n",
      "\n",
      "Joining, by = \"word\"\n",
      "\n",
      "Joining, by = \"word\"\n",
      "\n",
      "Joining, by = \"word\"\n",
      "\n",
      "Joining, by = \"word\"\n",
      "\n",
      "Joining, by = \"word\"\n",
      "\n",
      "Joining, by = \"word\"\n",
      "\n",
      "Joining, by = \"word\"\n",
      "\n",
      "Joining, by = \"word\"\n",
      "\n",
      "Joining, by = \"word\"\n",
      "\n",
      "Joining, by = \"word\"\n",
      "\n",
      "Joining, by = \"word\"\n",
      "\n",
      "Joining, by = \"word\"\n",
      "\n",
      "Joining, by = \"word\"\n",
      "\n",
      "Joining, by = \"word\"\n",
      "\n",
      "Joining, by = \"word\"\n",
      "\n",
      "Joining, by = \"word\"\n",
      "\n",
      "Joining, by = \"word\"\n",
      "\n",
      "Joining, by = \"word\"\n",
      "\n",
      "Joining, by = \"word\"\n",
      "\n",
      "Joining, by = \"word\"\n",
      "\n",
      "Joining, by = \"word\"\n",
      "\n",
      "Joining, by = \"word\"\n",
      "\n",
      "Joining, by = \"word\"\n",
      "\n",
      "Joining, by = \"word\"\n",
      "\n",
      "Joining, by = \"word\"\n",
      "\n",
      "Joining, by = \"word\"\n",
      "\n",
      "Joining, by = \"word\"\n",
      "\n",
      "Joining, by = \"word\"\n",
      "\n",
      "Joining, by = \"word\"\n",
      "\n",
      "Joining, by = \"word\"\n",
      "\n",
      "Joining, by = \"word\"\n",
      "\n",
      "Joining, by = \"word\"\n",
      "\n",
      "Joining, by = \"word\"\n",
      "\n",
      "Joining, by = \"word\"\n",
      "\n",
      "Joining, by = \"word\"\n",
      "\n",
      "Joining, by = \"word\"\n",
      "\n",
      "Joining, by = \"word\"\n",
      "\n",
      "Joining, by = \"word\"\n",
      "\n",
      "Joining, by = \"word\"\n",
      "\n",
      "Joining, by = \"word\"\n",
      "\n",
      "Joining, by = \"word\"\n",
      "\n",
      "Joining, by = \"word\"\n",
      "\n",
      "Joining, by = \"word\"\n",
      "\n",
      "Joining, by = \"word\"\n",
      "\n",
      "Joining, by = \"word\"\n",
      "\n",
      "Joining, by = \"word\"\n",
      "\n",
      "Joining, by = \"word\"\n",
      "\n",
      "Joining, by = \"word\"\n",
      "\n",
      "Joining, by = \"word\"\n",
      "\n",
      "Joining, by = \"word\"\n",
      "\n",
      "Joining, by = \"word\"\n",
      "\n",
      "Joining, by = \"word\"\n",
      "\n",
      "Joining, by = \"word\"\n",
      "\n",
      "Joining, by = \"word\"\n",
      "\n",
      "Joining, by = \"word\"\n",
      "\n",
      "Joining, by = \"word\"\n",
      "\n",
      "Joining, by = \"word\"\n",
      "\n",
      "Joining, by = \"word\"\n",
      "\n",
      "Joining, by = \"word\"\n",
      "\n",
      "Joining, by = \"word\"\n",
      "\n",
      "Joining, by = \"word\"\n",
      "\n",
      "Joining, by = \"word\"\n",
      "\n",
      "Joining, by = \"word\"\n",
      "\n",
      "Joining, by = \"word\"\n",
      "\n",
      "Joining, by = \"word\"\n",
      "\n",
      "Joining, by = \"word\"\n",
      "\n",
      "Joining, by = \"word\"\n",
      "\n",
      "Joining, by = \"word\"\n",
      "\n",
      "Joining, by = \"word\"\n",
      "\n",
      "Joining, by = \"word\"\n",
      "\n",
      "Joining, by = \"word\"\n",
      "\n",
      "Joining, by = \"word\"\n",
      "\n",
      "Joining, by = \"word\"\n",
      "\n",
      "Joining, by = \"word\"\n",
      "\n",
      "Joining, by = \"word\"\n",
      "\n"
     ]
    }
   ],
   "source": [
    "sentiments <- tibble()\n",
    "\n",
    "for (i in files){\n",
    "    sentiments <- rbind(sentiments,getSentiment(i))\n",
    "}"
   ]
  },
  {
   "cell_type": "markdown",
   "metadata": {},
   "source": [
    "In the dataset downloaded from kaggle, I found that `Washington_1790.txt` was blank, producing an error from above. This error was corrected by manually adding the [appropriate SOTU text](http://stateoftheunion.onetwothree.net/texts/17901208.html)."
   ]
  },
  {
   "cell_type": "code",
   "execution_count": 67,
   "metadata": {},
   "outputs": [
    {
     "data": {
      "text/html": [
       "<table>\n",
       "<caption>A tibble: 228 × 6</caption>\n",
       "<thead>\n",
       "\t<tr><th scope=col>negative</th><th scope=col>positive</th><th scope=col>sentiment</th><th scope=col>file</th><th scope=col>year</th><th scope=col>president</th></tr>\n",
       "\t<tr><th scope=col>&lt;dbl&gt;</th><th scope=col>&lt;dbl&gt;</th><th scope=col>&lt;dbl&gt;</th><th scope=col>&lt;chr&gt;</th><th scope=col>&lt;dbl&gt;</th><th scope=col>&lt;chr&gt;</th></tr>\n",
       "</thead>\n",
       "<tbody>\n",
       "\t<tr><td> 59</td><td> 89</td><td> 30</td><td>Adams_1797.txt   </td><td>1797</td><td>Adams   </td></tr>\n",
       "\t<tr><td> 47</td><td>102</td><td> 55</td><td>Adams_1798.txt   </td><td>1798</td><td>Adams   </td></tr>\n",
       "\t<tr><td> 29</td><td> 73</td><td> 44</td><td>Adams_1799.txt   </td><td>1799</td><td>Adams   </td></tr>\n",
       "\t<tr><td> 20</td><td> 83</td><td> 63</td><td>Adams_1800.txt   </td><td>1800</td><td>Adams   </td></tr>\n",
       "\t<tr><td>139</td><td>341</td><td>202</td><td>Adams_1825.txt   </td><td>1825</td><td>Adams   </td></tr>\n",
       "\t<tr><td>119</td><td>254</td><td>135</td><td>Adams_1826.txt   </td><td>1826</td><td>Adams   </td></tr>\n",
       "\t<tr><td>123</td><td>236</td><td>113</td><td>Adams_1827.txt   </td><td>1827</td><td>Adams   </td></tr>\n",
       "\t<tr><td>128</td><td>241</td><td>113</td><td>Adams_1828.txt   </td><td>1828</td><td>Adams   </td></tr>\n",
       "\t<tr><td> 69</td><td>163</td><td> 94</td><td>Arthur_1881.txt  </td><td>1881</td><td>Arthur  </td></tr>\n",
       "\t<tr><td> 47</td><td> 98</td><td> 51</td><td>Arthur_1882.txt  </td><td>1882</td><td>Arthur  </td></tr>\n",
       "\t<tr><td> 67</td><td> 96</td><td> 29</td><td>Arthur_1883.txt  </td><td>1883</td><td>Arthur  </td></tr>\n",
       "\t<tr><td>135</td><td>315</td><td>180</td><td>Arthur_1884.txt  </td><td>1884</td><td>Arthur  </td></tr>\n",
       "\t<tr><td>341</td><td>460</td><td>119</td><td>Buchanan_1857.txt</td><td>1857</td><td>Buchanan</td></tr>\n",
       "\t<tr><td>400</td><td>534</td><td>134</td><td>Buchanan_1858.txt</td><td>1858</td><td>Buchanan</td></tr>\n",
       "\t<tr><td>369</td><td>413</td><td> 44</td><td>Buchanan_1859.txt</td><td>1859</td><td>Buchanan</td></tr>\n",
       "\t<tr><td>377</td><td>484</td><td>107</td><td>Buchanan_1860.txt</td><td>1860</td><td>Buchanan</td></tr>\n",
       "\t<tr><td>198</td><td>464</td><td>266</td><td>Buren_1837.txt   </td><td>1837</td><td>Buren   </td></tr>\n",
       "\t<tr><td>252</td><td>458</td><td>206</td><td>Buren_1838.txt   </td><td>1838</td><td>Buren   </td></tr>\n",
       "\t<tr><td>354</td><td>487</td><td>133</td><td>Buren_1839.txt   </td><td>1839</td><td>Buren   </td></tr>\n",
       "\t<tr><td>262</td><td>378</td><td>116</td><td>Buren_1840.txt   </td><td>1840</td><td>Buren   </td></tr>\n",
       "\t<tr><td>117</td><td>240</td><td>123</td><td>Bush_1989.txt    </td><td>1989</td><td>Bush    </td></tr>\n",
       "\t<tr><td> 49</td><td>170</td><td>121</td><td>Bush_1990.txt    </td><td>1990</td><td>Bush    </td></tr>\n",
       "\t<tr><td>126</td><td>169</td><td> 43</td><td>Bush_1991.txt    </td><td>1991</td><td>Bush    </td></tr>\n",
       "\t<tr><td>103</td><td>191</td><td> 88</td><td>Bush_1992.txt    </td><td>1992</td><td>Bush    </td></tr>\n",
       "\t<tr><td> 89</td><td>235</td><td>146</td><td>Bush_2001.txt    </td><td>2001</td><td>Bush    </td></tr>\n",
       "\t<tr><td>138</td><td>207</td><td> 69</td><td>Bush_2002.txt    </td><td>2002</td><td>Bush    </td></tr>\n",
       "\t<tr><td>192</td><td>238</td><td> 46</td><td>Bush_2003.txt    </td><td>2003</td><td>Bush    </td></tr>\n",
       "\t<tr><td>169</td><td>257</td><td> 88</td><td>Bush_2004.txt    </td><td>2004</td><td>Bush    </td></tr>\n",
       "\t<tr><td>120</td><td>293</td><td>173</td><td>Bush_2005.txt    </td><td>2005</td><td>Bush    </td></tr>\n",
       "\t<tr><td>194</td><td>340</td><td>146</td><td>Bush_2006.txt    </td><td>2006</td><td>Bush    </td></tr>\n",
       "\t<tr><td>⋮</td><td>⋮</td><td>⋮</td><td>⋮</td><td>⋮</td><td>⋮</td></tr>\n",
       "\t<tr><td>116</td><td>310</td><td>194</td><td>Taylor_1849.txt    </td><td>1849</td><td>Taylor    </td></tr>\n",
       "\t<tr><td>457</td><td>943</td><td>486</td><td>Truman_1946.txt    </td><td>1946</td><td>Truman    </td></tr>\n",
       "\t<tr><td>157</td><td>254</td><td> 97</td><td>Truman_1947.txt    </td><td>1947</td><td>Truman    </td></tr>\n",
       "\t<tr><td>101</td><td>288</td><td>187</td><td>Truman_1948.txt    </td><td>1948</td><td>Truman    </td></tr>\n",
       "\t<tr><td> 80</td><td>184</td><td>104</td><td>Truman_1949.txt    </td><td>1949</td><td>Truman    </td></tr>\n",
       "\t<tr><td> 93</td><td>311</td><td>218</td><td>Truman_1950.txt    </td><td>1950</td><td>Truman    </td></tr>\n",
       "\t<tr><td>102</td><td>203</td><td>101</td><td>Truman_1951.txt    </td><td>1951</td><td>Truman    </td></tr>\n",
       "\t<tr><td>136</td><td>264</td><td>128</td><td>Truman_1952.txt    </td><td>1952</td><td>Truman    </td></tr>\n",
       "\t<tr><td>286</td><td>451</td><td>165</td><td>Truman_1953.txt    </td><td>1953</td><td>Truman    </td></tr>\n",
       "\t<tr><td>135</td><td>246</td><td>111</td><td>Trump_2017.txt     </td><td>2017</td><td>Trump     </td></tr>\n",
       "\t<tr><td>135</td><td>239</td><td>104</td><td>Trump_2018.txt     </td><td>2018</td><td>Trump     </td></tr>\n",
       "\t<tr><td>199</td><td>293</td><td> 94</td><td>Tyler_1841.txt     </td><td>1841</td><td>Tyler     </td></tr>\n",
       "\t<tr><td>236</td><td>346</td><td>110</td><td>Tyler_1842.txt     </td><td>1842</td><td>Tyler     </td></tr>\n",
       "\t<tr><td>167</td><td>312</td><td>145</td><td>Tyler_1843.txt     </td><td>1843</td><td>Tyler     </td></tr>\n",
       "\t<tr><td>227</td><td>432</td><td>205</td><td>Tyler_1844.txt     </td><td>1844</td><td>Tyler     </td></tr>\n",
       "\t<tr><td> 24</td><td> 72</td><td> 48</td><td>Washington_1790.txt</td><td>1790</td><td>Washington</td></tr>\n",
       "\t<tr><td> 52</td><td>122</td><td> 70</td><td>Washington_1791.txt</td><td>1791</td><td>Washington</td></tr>\n",
       "\t<tr><td> 57</td><td> 83</td><td> 26</td><td>Washington_1792.txt</td><td>1792</td><td>Washington</td></tr>\n",
       "\t<tr><td> 58</td><td> 84</td><td> 26</td><td>Washington_1793.txt</td><td>1793</td><td>Washington</td></tr>\n",
       "\t<tr><td>110</td><td>116</td><td>  6</td><td>Washington_1794.txt</td><td>1794</td><td>Washington</td></tr>\n",
       "\t<tr><td> 60</td><td>120</td><td> 60</td><td>Washington_1795.txt</td><td>1795</td><td>Washington</td></tr>\n",
       "\t<tr><td> 55</td><td>126</td><td> 71</td><td>Washington_1796.txt</td><td>1796</td><td>Washington</td></tr>\n",
       "\t<tr><td> 76</td><td>143</td><td> 67</td><td>Wilson_1913.txt    </td><td>1913</td><td>Wilson    </td></tr>\n",
       "\t<tr><td> 74</td><td>219</td><td>145</td><td>Wilson_1914.txt    </td><td>1914</td><td>Wilson    </td></tr>\n",
       "\t<tr><td>152</td><td>304</td><td>152</td><td>Wilson_1915.txt    </td><td>1915</td><td>Wilson    </td></tr>\n",
       "\t<tr><td> 41</td><td> 57</td><td> 16</td><td>Wilson_1916.txt    </td><td>1916</td><td>Wilson    </td></tr>\n",
       "\t<tr><td>127</td><td>176</td><td> 49</td><td>Wilson_1917.txt    </td><td>1917</td><td>Wilson    </td></tr>\n",
       "\t<tr><td>117</td><td>230</td><td>113</td><td>Wilson_1918.txt    </td><td>1918</td><td>Wilson    </td></tr>\n",
       "\t<tr><td>143</td><td>233</td><td> 90</td><td>Wilson_1919.txt    </td><td>1919</td><td>Wilson    </td></tr>\n",
       "\t<tr><td> 60</td><td>130</td><td> 70</td><td>Wilson_1920.txt    </td><td>1920</td><td>Wilson    </td></tr>\n",
       "</tbody>\n",
       "</table>\n"
      ],
      "text/latex": [
       "A tibble: 228 × 6\n",
       "\\begin{tabular}{llllll}\n",
       " negative & positive & sentiment & file & year & president\\\\\n",
       " <dbl> & <dbl> & <dbl> & <chr> & <dbl> & <chr>\\\\\n",
       "\\hline\n",
       "\t  59 &  89 &  30 & Adams\\_1797.txt    & 1797 & Adams   \\\\\n",
       "\t  47 & 102 &  55 & Adams\\_1798.txt    & 1798 & Adams   \\\\\n",
       "\t  29 &  73 &  44 & Adams\\_1799.txt    & 1799 & Adams   \\\\\n",
       "\t  20 &  83 &  63 & Adams\\_1800.txt    & 1800 & Adams   \\\\\n",
       "\t 139 & 341 & 202 & Adams\\_1825.txt    & 1825 & Adams   \\\\\n",
       "\t 119 & 254 & 135 & Adams\\_1826.txt    & 1826 & Adams   \\\\\n",
       "\t 123 & 236 & 113 & Adams\\_1827.txt    & 1827 & Adams   \\\\\n",
       "\t 128 & 241 & 113 & Adams\\_1828.txt    & 1828 & Adams   \\\\\n",
       "\t  69 & 163 &  94 & Arthur\\_1881.txt   & 1881 & Arthur  \\\\\n",
       "\t  47 &  98 &  51 & Arthur\\_1882.txt   & 1882 & Arthur  \\\\\n",
       "\t  67 &  96 &  29 & Arthur\\_1883.txt   & 1883 & Arthur  \\\\\n",
       "\t 135 & 315 & 180 & Arthur\\_1884.txt   & 1884 & Arthur  \\\\\n",
       "\t 341 & 460 & 119 & Buchanan\\_1857.txt & 1857 & Buchanan\\\\\n",
       "\t 400 & 534 & 134 & Buchanan\\_1858.txt & 1858 & Buchanan\\\\\n",
       "\t 369 & 413 &  44 & Buchanan\\_1859.txt & 1859 & Buchanan\\\\\n",
       "\t 377 & 484 & 107 & Buchanan\\_1860.txt & 1860 & Buchanan\\\\\n",
       "\t 198 & 464 & 266 & Buren\\_1837.txt    & 1837 & Buren   \\\\\n",
       "\t 252 & 458 & 206 & Buren\\_1838.txt    & 1838 & Buren   \\\\\n",
       "\t 354 & 487 & 133 & Buren\\_1839.txt    & 1839 & Buren   \\\\\n",
       "\t 262 & 378 & 116 & Buren\\_1840.txt    & 1840 & Buren   \\\\\n",
       "\t 117 & 240 & 123 & Bush\\_1989.txt     & 1989 & Bush    \\\\\n",
       "\t  49 & 170 & 121 & Bush\\_1990.txt     & 1990 & Bush    \\\\\n",
       "\t 126 & 169 &  43 & Bush\\_1991.txt     & 1991 & Bush    \\\\\n",
       "\t 103 & 191 &  88 & Bush\\_1992.txt     & 1992 & Bush    \\\\\n",
       "\t  89 & 235 & 146 & Bush\\_2001.txt     & 2001 & Bush    \\\\\n",
       "\t 138 & 207 &  69 & Bush\\_2002.txt     & 2002 & Bush    \\\\\n",
       "\t 192 & 238 &  46 & Bush\\_2003.txt     & 2003 & Bush    \\\\\n",
       "\t 169 & 257 &  88 & Bush\\_2004.txt     & 2004 & Bush    \\\\\n",
       "\t 120 & 293 & 173 & Bush\\_2005.txt     & 2005 & Bush    \\\\\n",
       "\t 194 & 340 & 146 & Bush\\_2006.txt     & 2006 & Bush    \\\\\n",
       "\t ⋮ & ⋮ & ⋮ & ⋮ & ⋮ & ⋮\\\\\n",
       "\t 116 & 310 & 194 & Taylor\\_1849.txt     & 1849 & Taylor    \\\\\n",
       "\t 457 & 943 & 486 & Truman\\_1946.txt     & 1946 & Truman    \\\\\n",
       "\t 157 & 254 &  97 & Truman\\_1947.txt     & 1947 & Truman    \\\\\n",
       "\t 101 & 288 & 187 & Truman\\_1948.txt     & 1948 & Truman    \\\\\n",
       "\t  80 & 184 & 104 & Truman\\_1949.txt     & 1949 & Truman    \\\\\n",
       "\t  93 & 311 & 218 & Truman\\_1950.txt     & 1950 & Truman    \\\\\n",
       "\t 102 & 203 & 101 & Truman\\_1951.txt     & 1951 & Truman    \\\\\n",
       "\t 136 & 264 & 128 & Truman\\_1952.txt     & 1952 & Truman    \\\\\n",
       "\t 286 & 451 & 165 & Truman\\_1953.txt     & 1953 & Truman    \\\\\n",
       "\t 135 & 246 & 111 & Trump\\_2017.txt      & 2017 & Trump     \\\\\n",
       "\t 135 & 239 & 104 & Trump\\_2018.txt      & 2018 & Trump     \\\\\n",
       "\t 199 & 293 &  94 & Tyler\\_1841.txt      & 1841 & Tyler     \\\\\n",
       "\t 236 & 346 & 110 & Tyler\\_1842.txt      & 1842 & Tyler     \\\\\n",
       "\t 167 & 312 & 145 & Tyler\\_1843.txt      & 1843 & Tyler     \\\\\n",
       "\t 227 & 432 & 205 & Tyler\\_1844.txt      & 1844 & Tyler     \\\\\n",
       "\t  24 &  72 &  48 & Washington\\_1790.txt & 1790 & Washington\\\\\n",
       "\t  52 & 122 &  70 & Washington\\_1791.txt & 1791 & Washington\\\\\n",
       "\t  57 &  83 &  26 & Washington\\_1792.txt & 1792 & Washington\\\\\n",
       "\t  58 &  84 &  26 & Washington\\_1793.txt & 1793 & Washington\\\\\n",
       "\t 110 & 116 &   6 & Washington\\_1794.txt & 1794 & Washington\\\\\n",
       "\t  60 & 120 &  60 & Washington\\_1795.txt & 1795 & Washington\\\\\n",
       "\t  55 & 126 &  71 & Washington\\_1796.txt & 1796 & Washington\\\\\n",
       "\t  76 & 143 &  67 & Wilson\\_1913.txt     & 1913 & Wilson    \\\\\n",
       "\t  74 & 219 & 145 & Wilson\\_1914.txt     & 1914 & Wilson    \\\\\n",
       "\t 152 & 304 & 152 & Wilson\\_1915.txt     & 1915 & Wilson    \\\\\n",
       "\t  41 &  57 &  16 & Wilson\\_1916.txt     & 1916 & Wilson    \\\\\n",
       "\t 127 & 176 &  49 & Wilson\\_1917.txt     & 1917 & Wilson    \\\\\n",
       "\t 117 & 230 & 113 & Wilson\\_1918.txt     & 1918 & Wilson    \\\\\n",
       "\t 143 & 233 &  90 & Wilson\\_1919.txt     & 1919 & Wilson    \\\\\n",
       "\t  60 & 130 &  70 & Wilson\\_1920.txt     & 1920 & Wilson    \\\\\n",
       "\\end{tabular}\n"
      ],
      "text/markdown": [
       "\n",
       "A tibble: 228 × 6\n",
       "\n",
       "| negative &lt;dbl&gt; | positive &lt;dbl&gt; | sentiment &lt;dbl&gt; | file &lt;chr&gt; | year &lt;dbl&gt; | president &lt;chr&gt; |\n",
       "|---|---|---|---|---|---|\n",
       "|  59 |  89 |  30 | Adams_1797.txt    | 1797 | Adams    |\n",
       "|  47 | 102 |  55 | Adams_1798.txt    | 1798 | Adams    |\n",
       "|  29 |  73 |  44 | Adams_1799.txt    | 1799 | Adams    |\n",
       "|  20 |  83 |  63 | Adams_1800.txt    | 1800 | Adams    |\n",
       "| 139 | 341 | 202 | Adams_1825.txt    | 1825 | Adams    |\n",
       "| 119 | 254 | 135 | Adams_1826.txt    | 1826 | Adams    |\n",
       "| 123 | 236 | 113 | Adams_1827.txt    | 1827 | Adams    |\n",
       "| 128 | 241 | 113 | Adams_1828.txt    | 1828 | Adams    |\n",
       "|  69 | 163 |  94 | Arthur_1881.txt   | 1881 | Arthur   |\n",
       "|  47 |  98 |  51 | Arthur_1882.txt   | 1882 | Arthur   |\n",
       "|  67 |  96 |  29 | Arthur_1883.txt   | 1883 | Arthur   |\n",
       "| 135 | 315 | 180 | Arthur_1884.txt   | 1884 | Arthur   |\n",
       "| 341 | 460 | 119 | Buchanan_1857.txt | 1857 | Buchanan |\n",
       "| 400 | 534 | 134 | Buchanan_1858.txt | 1858 | Buchanan |\n",
       "| 369 | 413 |  44 | Buchanan_1859.txt | 1859 | Buchanan |\n",
       "| 377 | 484 | 107 | Buchanan_1860.txt | 1860 | Buchanan |\n",
       "| 198 | 464 | 266 | Buren_1837.txt    | 1837 | Buren    |\n",
       "| 252 | 458 | 206 | Buren_1838.txt    | 1838 | Buren    |\n",
       "| 354 | 487 | 133 | Buren_1839.txt    | 1839 | Buren    |\n",
       "| 262 | 378 | 116 | Buren_1840.txt    | 1840 | Buren    |\n",
       "| 117 | 240 | 123 | Bush_1989.txt     | 1989 | Bush     |\n",
       "|  49 | 170 | 121 | Bush_1990.txt     | 1990 | Bush     |\n",
       "| 126 | 169 |  43 | Bush_1991.txt     | 1991 | Bush     |\n",
       "| 103 | 191 |  88 | Bush_1992.txt     | 1992 | Bush     |\n",
       "|  89 | 235 | 146 | Bush_2001.txt     | 2001 | Bush     |\n",
       "| 138 | 207 |  69 | Bush_2002.txt     | 2002 | Bush     |\n",
       "| 192 | 238 |  46 | Bush_2003.txt     | 2003 | Bush     |\n",
       "| 169 | 257 |  88 | Bush_2004.txt     | 2004 | Bush     |\n",
       "| 120 | 293 | 173 | Bush_2005.txt     | 2005 | Bush     |\n",
       "| 194 | 340 | 146 | Bush_2006.txt     | 2006 | Bush     |\n",
       "| ⋮ | ⋮ | ⋮ | ⋮ | ⋮ | ⋮ |\n",
       "| 116 | 310 | 194 | Taylor_1849.txt     | 1849 | Taylor     |\n",
       "| 457 | 943 | 486 | Truman_1946.txt     | 1946 | Truman     |\n",
       "| 157 | 254 |  97 | Truman_1947.txt     | 1947 | Truman     |\n",
       "| 101 | 288 | 187 | Truman_1948.txt     | 1948 | Truman     |\n",
       "|  80 | 184 | 104 | Truman_1949.txt     | 1949 | Truman     |\n",
       "|  93 | 311 | 218 | Truman_1950.txt     | 1950 | Truman     |\n",
       "| 102 | 203 | 101 | Truman_1951.txt     | 1951 | Truman     |\n",
       "| 136 | 264 | 128 | Truman_1952.txt     | 1952 | Truman     |\n",
       "| 286 | 451 | 165 | Truman_1953.txt     | 1953 | Truman     |\n",
       "| 135 | 246 | 111 | Trump_2017.txt      | 2017 | Trump      |\n",
       "| 135 | 239 | 104 | Trump_2018.txt      | 2018 | Trump      |\n",
       "| 199 | 293 |  94 | Tyler_1841.txt      | 1841 | Tyler      |\n",
       "| 236 | 346 | 110 | Tyler_1842.txt      | 1842 | Tyler      |\n",
       "| 167 | 312 | 145 | Tyler_1843.txt      | 1843 | Tyler      |\n",
       "| 227 | 432 | 205 | Tyler_1844.txt      | 1844 | Tyler      |\n",
       "|  24 |  72 |  48 | Washington_1790.txt | 1790 | Washington |\n",
       "|  52 | 122 |  70 | Washington_1791.txt | 1791 | Washington |\n",
       "|  57 |  83 |  26 | Washington_1792.txt | 1792 | Washington |\n",
       "|  58 |  84 |  26 | Washington_1793.txt | 1793 | Washington |\n",
       "| 110 | 116 |   6 | Washington_1794.txt | 1794 | Washington |\n",
       "|  60 | 120 |  60 | Washington_1795.txt | 1795 | Washington |\n",
       "|  55 | 126 |  71 | Washington_1796.txt | 1796 | Washington |\n",
       "|  76 | 143 |  67 | Wilson_1913.txt     | 1913 | Wilson     |\n",
       "|  74 | 219 | 145 | Wilson_1914.txt     | 1914 | Wilson     |\n",
       "| 152 | 304 | 152 | Wilson_1915.txt     | 1915 | Wilson     |\n",
       "|  41 |  57 |  16 | Wilson_1916.txt     | 1916 | Wilson     |\n",
       "| 127 | 176 |  49 | Wilson_1917.txt     | 1917 | Wilson     |\n",
       "| 117 | 230 | 113 | Wilson_1918.txt     | 1918 | Wilson     |\n",
       "| 143 | 233 |  90 | Wilson_1919.txt     | 1919 | Wilson     |\n",
       "|  60 | 130 |  70 | Wilson_1920.txt     | 1920 | Wilson     |\n",
       "\n"
      ],
      "text/plain": [
       "    negative positive sentiment file                year president \n",
       "1    59       89       30       Adams_1797.txt      1797 Adams     \n",
       "2    47      102       55       Adams_1798.txt      1798 Adams     \n",
       "3    29       73       44       Adams_1799.txt      1799 Adams     \n",
       "4    20       83       63       Adams_1800.txt      1800 Adams     \n",
       "5   139      341      202       Adams_1825.txt      1825 Adams     \n",
       "6   119      254      135       Adams_1826.txt      1826 Adams     \n",
       "7   123      236      113       Adams_1827.txt      1827 Adams     \n",
       "8   128      241      113       Adams_1828.txt      1828 Adams     \n",
       "9    69      163       94       Arthur_1881.txt     1881 Arthur    \n",
       "10   47       98       51       Arthur_1882.txt     1882 Arthur    \n",
       "11   67       96       29       Arthur_1883.txt     1883 Arthur    \n",
       "12  135      315      180       Arthur_1884.txt     1884 Arthur    \n",
       "13  341      460      119       Buchanan_1857.txt   1857 Buchanan  \n",
       "14  400      534      134       Buchanan_1858.txt   1858 Buchanan  \n",
       "15  369      413       44       Buchanan_1859.txt   1859 Buchanan  \n",
       "16  377      484      107       Buchanan_1860.txt   1860 Buchanan  \n",
       "17  198      464      266       Buren_1837.txt      1837 Buren     \n",
       "18  252      458      206       Buren_1838.txt      1838 Buren     \n",
       "19  354      487      133       Buren_1839.txt      1839 Buren     \n",
       "20  262      378      116       Buren_1840.txt      1840 Buren     \n",
       "21  117      240      123       Bush_1989.txt       1989 Bush      \n",
       "22   49      170      121       Bush_1990.txt       1990 Bush      \n",
       "23  126      169       43       Bush_1991.txt       1991 Bush      \n",
       "24  103      191       88       Bush_1992.txt       1992 Bush      \n",
       "25   89      235      146       Bush_2001.txt       2001 Bush      \n",
       "26  138      207       69       Bush_2002.txt       2002 Bush      \n",
       "27  192      238       46       Bush_2003.txt       2003 Bush      \n",
       "28  169      257       88       Bush_2004.txt       2004 Bush      \n",
       "29  120      293      173       Bush_2005.txt       2005 Bush      \n",
       "30  194      340      146       Bush_2006.txt       2006 Bush      \n",
       "⋮   ⋮        ⋮        ⋮         ⋮                   ⋮    ⋮         \n",
       "199 116      310      194       Taylor_1849.txt     1849 Taylor    \n",
       "200 457      943      486       Truman_1946.txt     1946 Truman    \n",
       "201 157      254       97       Truman_1947.txt     1947 Truman    \n",
       "202 101      288      187       Truman_1948.txt     1948 Truman    \n",
       "203  80      184      104       Truman_1949.txt     1949 Truman    \n",
       "204  93      311      218       Truman_1950.txt     1950 Truman    \n",
       "205 102      203      101       Truman_1951.txt     1951 Truman    \n",
       "206 136      264      128       Truman_1952.txt     1952 Truman    \n",
       "207 286      451      165       Truman_1953.txt     1953 Truman    \n",
       "208 135      246      111       Trump_2017.txt      2017 Trump     \n",
       "209 135      239      104       Trump_2018.txt      2018 Trump     \n",
       "210 199      293       94       Tyler_1841.txt      1841 Tyler     \n",
       "211 236      346      110       Tyler_1842.txt      1842 Tyler     \n",
       "212 167      312      145       Tyler_1843.txt      1843 Tyler     \n",
       "213 227      432      205       Tyler_1844.txt      1844 Tyler     \n",
       "214  24       72       48       Washington_1790.txt 1790 Washington\n",
       "215  52      122       70       Washington_1791.txt 1791 Washington\n",
       "216  57       83       26       Washington_1792.txt 1792 Washington\n",
       "217  58       84       26       Washington_1793.txt 1793 Washington\n",
       "218 110      116        6       Washington_1794.txt 1794 Washington\n",
       "219  60      120       60       Washington_1795.txt 1795 Washington\n",
       "220  55      126       71       Washington_1796.txt 1796 Washington\n",
       "221  76      143       67       Wilson_1913.txt     1913 Wilson    \n",
       "222  74      219      145       Wilson_1914.txt     1914 Wilson    \n",
       "223 152      304      152       Wilson_1915.txt     1915 Wilson    \n",
       "224  41       57       16       Wilson_1916.txt     1916 Wilson    \n",
       "225 127      176       49       Wilson_1917.txt     1917 Wilson    \n",
       "226 117      230      113       Wilson_1918.txt     1918 Wilson    \n",
       "227 143      233       90       Wilson_1919.txt     1919 Wilson    \n",
       "228  60      130       70       Wilson_1920.txt     1920 Wilson    "
      ]
     },
     "metadata": {},
     "output_type": "display_data"
    }
   ],
   "source": [
    "sentiments"
   ]
  },
  {
   "cell_type": "markdown",
   "metadata": {},
   "source": [
    "Finally, we need to make sure that Bush Sr. and George W. Bush are disambiguated."
   ]
  },
  {
   "cell_type": "markdown",
   "metadata": {},
   "source": [
    "First we'll find the rows for Bush Sr. and correct \"Bush\" to \"Bush Sr.\""
   ]
  },
  {
   "cell_type": "code",
   "execution_count": 68,
   "metadata": {},
   "outputs": [],
   "source": [
    "bushSr <- sentiments %>%\n",
    "  filter(president==\"Bush\") %>% # Get rows where president is named Bush\n",
    "  filter(year<2000) %>%         # and the year is before 2000\n",
    "  mutate(president=\"Bush Sr.\")  # Those are Bush Sr.'s years"
   ]
  },
  {
   "cell_type": "markdown",
   "metadata": {},
   "source": [
    "Now let's remove those same rows from the dataframe and add in the corrected rows."
   ]
  },
  {
   "cell_type": "code",
   "execution_count": 69,
   "metadata": {
    "scrolled": true
   },
   "outputs": [
    {
     "name": "stderr",
     "output_type": "stream",
     "text": [
      "Joining, by = c(\"negative\", \"positive\", \"sentiment\", \"file\", \"year\", \"president\")\n",
      "\n",
      "Joining, by = c(\"negative\", \"positive\", \"sentiment\", \"file\", \"year\", \"president\")\n",
      "\n"
     ]
    }
   ],
   "source": [
    "sentiments <- anti_join(sentiments,\n",
    "                        sentiments[sentiments$president==\"Bush\"&sentiments$year<2000, ])\n",
    "\n",
    "sentiments <- full_join(sentiments,bushSr)"
   ]
  },
  {
   "cell_type": "markdown",
   "metadata": {},
   "source": [
    "Now we can see the results of all that work!"
   ]
  },
  {
   "cell_type": "code",
   "execution_count": 70,
   "metadata": {
    "scrolled": true
   },
   "outputs": [
    {
     "data": {
      "text/plain": [
       "    negative        positive        sentiment          file          \n",
       " Min.   : 20.0   Min.   :  57.0   Min.   : -7.00   Length:228        \n",
       " 1st Qu.:100.2   1st Qu.: 178.5   1st Qu.: 75.75   Class :character  \n",
       " Median :137.5   Median : 280.5   Median :128.00   Mode  :character  \n",
       " Mean   :176.6   Mean   : 319.6   Mean   :142.93                     \n",
       " 3rd Qu.:208.8   3rd Qu.: 383.2   3rd Qu.:183.25                     \n",
       " Max.   :820.0   Max.   :1458.0   Max.   :763.00                     \n",
       "      year       president        \n",
       " Min.   :1790   Length:228        \n",
       " 1st Qu.:1847   Class :character  \n",
       " Median :1904   Mode  :character  \n",
       " Mean   :1904                     \n",
       " 3rd Qu.:1961                     \n",
       " Max.   :2018                     "
      ]
     },
     "metadata": {},
     "output_type": "display_data"
    }
   ],
   "source": [
    "summary(sentiments)"
   ]
  },
  {
   "cell_type": "markdown",
   "metadata": {},
   "source": [
    "Oh no! Rachael has been using an abbeviated dataset this whole time, only SOTU address from 1989 to 2017. Let's cull the sentiments dataframe to match."
   ]
  },
  {
   "cell_type": "code",
   "execution_count": 87,
   "metadata": {},
   "outputs": [
    {
     "name": "stderr",
     "output_type": "stream",
     "text": [
      "Joining, by = c(\"negative\", \"positive\", \"sentiment\", \"file\", \"year\", \"president\")\n",
      "\n"
     ]
    },
    {
     "data": {
      "text/plain": [
       "    negative        positive       sentiment         file          \n",
       " Min.   : 49.0   Min.   :169.0   Min.   : 43.0   Length:29         \n",
       " 1st Qu.:122.0   1st Qu.:240.0   1st Qu.:102.0   Class :character  \n",
       " Median :138.0   Median :293.0   Median :145.0   Mode  :character  \n",
       " Mean   :142.5   Mean   :276.3   Mean   :133.8                     \n",
       " 3rd Qu.:160.0   3rd Qu.:302.0   3rd Qu.:171.0                     \n",
       " Max.   :223.0   Max.   :389.0   Max.   :238.0                     \n",
       "      year       president        \n",
       " Min.   :1989   Length:29         \n",
       " 1st Qu.:1996   Class :character  \n",
       " Median :2003   Mode  :character  \n",
       " Mean   :2003                     \n",
       " 3rd Qu.:2010                     \n",
       " Max.   :2017                     "
      ]
     },
     "metadata": {},
     "output_type": "display_data"
    }
   ],
   "source": [
    "sentiments <- anti_join(sentiments,\n",
    "                       sentiments[sentiments$year<1989|sentiments$year>2017, ])\n",
    "\n",
    "summary(sentiments)"
   ]
  },
  {
   "cell_type": "markdown",
   "metadata": {},
   "source": [
    "Every SOTU address in this dataset has an overall positive sentiment. Since most text, especially formal texts, tend to have a positive skew, this isn't surprising."
   ]
  },
  {
   "cell_type": "markdown",
   "metadata": {},
   "source": [
    "Let's get some plots going to see if we notice any patterns."
   ]
  },
  {
   "cell_type": "markdown",
   "metadata": {},
   "source": [
    "Below we plot the sentiments over time (x axis is year), with different presidents having different colored points. We'll use an automatic model selection function to model the change."
   ]
  },
  {
   "cell_type": "code",
   "execution_count": 88,
   "metadata": {},
   "outputs": [
    {
     "name": "stderr",
     "output_type": "stream",
     "text": [
      "`geom_smooth()` using method = 'loess' and formula 'y ~ x'\n",
      "\n"
     ]
    },
    {
     "data": {
      "image/png": "[encoded data removed]",
      "text/plain": [
       "plot without title"
      ]
     },
     "metadata": {
      "image/png": {
       "height": 420,
       "width": 420
      },
      "text/plain": {
       "height": 420,
       "width": 420
      }
     },
     "output_type": "display_data"
    }
   ],
   "source": [
    "ggplot(sentiments,aes(x=as.numeric(year),y=sentiment)) +\n",
    "  geom_point(aes(color=president)) +\n",
    "  geom_smooth(method='auto')"
   ]
  },
  {
   "cell_type": "markdown",
   "metadata": {},
   "source": [
    "There does not appear to be any strong trends over time, but it appears that democratic presidents (Clinton and Obama) tend to give SOTU addresses with slightly more positive sentiment than those of Republican presidents (Bush Sr., Bush, and Trump)."
   ]
  },
  {
   "cell_type": "markdown",
   "metadata": {},
   "source": [
    "To see if the pattern holds, we'll look at boxplots for the sentiment for individual presidents."
   ]
  },
  {
   "cell_type": "code",
   "execution_count": 89,
   "metadata": {},
   "outputs": [
    {
     "data": {
      "image/png": "[encoded data removed]",
      "text/plain": [
       "plot without title"
      ]
     },
     "metadata": {
      "image/png": {
       "height": 420,
       "width": 420
      },
      "text/plain": {
       "height": 420,
       "width": 420
      }
     },
     "output_type": "display_data"
    }
   ],
   "source": [
    "ggplot(sentiments,aes(x=president,y=sentiment,color=president)) +\n",
    "  geom_boxplot()"
   ]
  },
  {
   "cell_type": "markdown",
   "metadata": {},
   "source": [
    "The boxplots seem to support the pattern. We can directly compare the two parties to see if there's a reliable difference between them."
   ]
  },
  {
   "cell_type": "markdown",
   "metadata": {},
   "source": [
    "Since our dataframe doesn't have labels for each president by party, we'll need to label the presidents manually."
   ]
  },
  {
   "cell_type": "code",
   "execution_count": 96,
   "metadata": {},
   "outputs": [
    {
     "name": "stderr",
     "output_type": "stream",
     "text": [
      "Joining, by = c(\"negative\", \"positive\", \"sentiment\", \"file\", \"year\", \"president\", \"party\")\n",
      "\n"
     ]
    }
   ],
   "source": [
    "# Labeling democratic presidents\n",
    "democrats <- sentiments %>%\n",
    "  filter(president=='Clinton'|president=='Obama') %>%\n",
    "  mutate(party='D')\n",
    "\n",
    "# Labeling republican presidents\n",
    "republicans <- sentiments %>%\n",
    "  filter(president!='Clinton'&president!='Obama') %>%\n",
    "  mutate(party='R')\n",
    "\n",
    "byParty <- full_join(democrats,republicans)"
   ]
  },
  {
   "cell_type": "markdown",
   "metadata": {},
   "source": [
    "In the tutorial, Tatman uses the syntax\n",
    "\n",
    "```\n",
    "democrats <- sentiments %>%\n",
    "    filter(president == c(\"Clinton\",\"Obama\")) %>%\n",
    "    mutate(party = \"D\")\n",
    "```\n",
    "\n",
    "This appears to result in an incomplete `democrats` dataframe, which impedes analysis. The above syntax results in a dataframe containing entries from 1989 to 2017, as desired."
   ]
  },
  {
   "cell_type": "markdown",
   "metadata": {},
   "source": [
    "We will now use Student's t-test test to see if the difference between the parties is significant."
   ]
  },
  {
   "cell_type": "code",
   "execution_count": 103,
   "metadata": {},
   "outputs": [
    {
     "data": {
      "text/plain": [
       "\n",
       "\tWelch Two Sample t-test\n",
       "\n",
       "data:  democrats$sentiment and republicans$sentiment\n",
       "t = 2.6948, df = 25.937, p-value = 0.01219\n",
       "alternative hypothesis: true difference in means is not equal to 0\n",
       "95 percent confidence interval:\n",
       " 10.27737 76.40532\n",
       "sample estimates:\n",
       "mean of x mean of y \n",
       " 153.1875  109.8462 \n"
      ]
     },
     "metadata": {},
     "output_type": "display_data"
    }
   ],
   "source": [
    "t.test(democrats$sentiment,republicans$sentiment)"
   ]
  },
  {
   "cell_type": "markdown",
   "metadata": {},
   "source": [
    "Since P<0.05, this data is unlikely to occur if the true difference in mean sentiments of Democratic SOTU addresses vs Republican SOTU addresses is equal to zero; we conclude that the sentiment of the SOTU addresses from 1989 to 2017 tends to be different based on the party affiliation of the president."
   ]
  },
  {
   "cell_type": "markdown",
   "metadata": {},
   "source": [
    "Let's visualize the sentiments of the SOTU addresses by party."
   ]
  },
  {
   "cell_type": "code",
   "execution_count": 99,
   "metadata": {},
   "outputs": [
    {
     "data": {
      "image/png": "[encoded data removed]",
      "text/plain": [
       "plot without title"
      ]
     },
     "metadata": {
      "image/png": {
       "height": 420,
       "width": 420
      },
      "text/plain": {
       "height": 420,
       "width": 420
      }
     },
     "output_type": "display_data"
    }
   ],
   "source": [
    "ggplot(byParty,aes(x=party,y=sentiment,color=party)) +\n",
    "  geom_boxplot() +\n",
    "  geom_point()"
   ]
  },
  {
   "cell_type": "markdown",
   "metadata": {},
   "source": [
    "## Future Work"
   ]
  },
  {
   "cell_type": "markdown",
   "metadata": {},
   "source": [
    "Addressing the following will improve the analysis.\n",
    "\n",
    "* Correcting for the length of the documents\n",
    "* Using a list of words specifically designed for analyzing political language, and we only used one semantic lexicon.\n",
    "\n",
    "Below are exercises from the tutorial."
   ]
  },
  {
   "cell_type": "markdown",
   "metadata": {},
   "source": [
    "### Exercise 1: Normalizing for text length"
   ]
  },
  {
   "cell_type": "code",
   "execution_count": 104,
   "metadata": {},
   "outputs": [],
   "source": [
    "# Rewrite the function GetSentiment so that it also returns the sentiment score\n",
    "# divided by the number of words in each document.\n",
    "\n",
    "# hint: you can use the function nrow() on your tokenized data_frame to find \n",
    "# the number of tokens in each document\n",
    "\n",
    "# How does normalizing for text length change the outcome of the analysis?"
   ]
  },
  {
   "cell_type": "markdown",
   "metadata": {},
   "source": [
    "### Exercise 2: Using a different sentiment lexicon"
   ]
  },
  {
   "cell_type": "code",
   "execution_count": 105,
   "metadata": {},
   "outputs": [],
   "source": [
    "# The get_sentiments function has a number of different sentiment lexicons\n",
    "# included in it. Repeat the analysis above with the \"afinn\" lexicon\n",
    "# instead of the \"bing\" lexicon. (You can learnd about the \"afinn\" lexicon\n",
    "# here: http://www2.imm.dtu.dk/pubdb/views/publication_details.php?id=6010).\n",
    "# Note that the \"afinn\" lexicon uses a scale for annotation. +5 is very \n",
    "# positive, while -5 is very negative.\n",
    "\n",
    "# Does using a different lexicon result in a different outcome for your\n",
    "# analysis? What does this suggest about the original analysis?"
   ]
  },
  {
   "cell_type": "markdown",
   "metadata": {},
   "source": [
    "### Exercise 3: Creating your own sentiment lexicon"
   ]
  },
  {
   "cell_type": "code",
   "execution_count": 106,
   "metadata": {},
   "outputs": [],
   "source": [
    "# Below, I've gotten a list of the 50 most frequent words in this corpus \n",
    "# (removing very common words like \"and\" or \"the\") that aren't also in the \n",
    "# \"bing\" lexicon. Can you tag these words for their sentiment, either positive,\n",
    "# negative or neutral, and then use them to augment the \"bing\" sentiment lexicon?\n",
    "\n",
    "# hint: you may find it easiest to upload your annotated list as a separate\n",
    "# dataset and add it to the kernel.\n",
    "\n",
    "# How does this affect your analysis? Do you think it would have had a different \n",
    "# effect if you had annotated 500 words instead? 50,000? Would your new lexicon\n",
    "# be helpful in analyzing product reviews? Tweets?"
   ]
  },
  {
   "cell_type": "code",
   "execution_count": 107,
   "metadata": {},
   "outputs": [
    {
     "ename": "ERROR",
     "evalue": "Error: '../input/Adams_1797.txt' does not exist in current working directory ('/Users/victorial/Dropbox/2020 Spring/Project/Tatman tidytext tutorial').\n",
     "output_type": "error",
     "traceback": [
      "Error: '../input/Adams_1797.txt' does not exist in current working directory ('/Users/victorial/Dropbox/2020 Spring/Project/Tatman tidytext tutorial').\nTraceback:\n",
      "1. rbind(allTokens, fileToTokens(i))",
      "2. fileToTokens(i)",
      "3. glue(read_file(fileName))   # at line 12 of file <text>",
      "4. glue_data(.x = NULL, ..., .sep = .sep, .envir = .envir, .open = .open, \n .     .close = .close, .na = .na, .transformer = .transformer, \n .     .trim = .trim)",
      "5. lapply(which(!named), function(x) eval(call(\"force\", as.symbol(paste0(\"..\", \n .     x)))))",
      "6. FUN(X[[i]], ...)",
      "7. eval(call(\"force\", as.symbol(paste0(\"..\", x))))",
      "8. eval(call(\"force\", as.symbol(paste0(\"..\", x))))",
      "9. force(..1)",
      "10. read_file(fileName)",
      "11. datasource(file, skip_empty_rows = FALSE)",
      "12. standardise_path(file)",
      "13. check_path(path)",
      "14. stop(\"'\", path, \"' does not exist\", if (!is_absolute_path(path)) paste0(\" in current working directory ('\", \n  .     getwd(), \"')\"), \".\", call. = FALSE)"
     ]
    }
   ],
   "source": [
    "# in this code block, we're getting a list of the 100 most frequent words in this\n",
    "# corpus that 1) aren't stop words and 2) aren't already in the Bing lexicon\n",
    "\n",
    "# function to get tokens from a file\n",
    "fileToTokens <- function(file){\n",
    "    # get the file\n",
    "    fileName <- glue(\"../input/\", file, sep = \"\")\n",
    "    # get rid of any sneaky trailing spaces\n",
    "    fileName <- trimws(fileName)\n",
    "\n",
    "    # read in the new file\n",
    "    fileText <- glue(read_file(fileName))\n",
    "    # remove any dollar signs (they're special characters in R)\n",
    "    fileText <- gsub(\"\\\\$\", \"\", fileText) \n",
    "\n",
    "    # tokenize\n",
    "    tokens <- data_frame(text = fileText) %>% unnest_tokens(word, text)\n",
    "}\n",
    "\n",
    "# empty data_frame to save our data in\n",
    "allTokens <- NULL\n",
    "\n",
    "# get the tokens in each file\n",
    "for(i in files){\n",
    "    allTokens <- rbind(allTokens, fileToTokens(i))\n",
    "}\n",
    "\n",
    "# get words already in the Bing sentiment dictionary\n",
    "bingWords <- get_sentiments(\"bing\")[,1]\n",
    "\n",
    "# get the top 100 most frequent words, excluding stop words\n",
    "# and word already in the \"bing\" lexicon\n",
    "top100Words <- allTokens %>% \n",
    "    anti_join(stop_words) %>% # remove stop words\n",
    "    anti_join(bingWords) %>% # remove words in the bing lexicon\n",
    "    count(word, sort = T) %>% # sort by frequency\n",
    "    top_n(100) # get the top 100 terms\n",
    "\n",
    "# Save out the file (it will show up under \"output\") so you can download it\n",
    "# and annotate it in a different program (if you like)\n",
    "write.csv(top100Words, \"top100Words.csv\")"
   ]
  },
  {
   "cell_type": "markdown",
   "metadata": {},
   "source": [
    "### Exercise 4: Analyzing a new dataset"
   ]
  },
  {
   "cell_type": "markdown",
   "metadata": {},
   "source": [
    "Now that you've got the skills to do sentiment analyis, it's time to apply them to a new dataset. You can find a list of text corpora already on Kaggle [here](https://www.kaggle.com/datasets?sortBy=updated&group=featured&search=corpus), but I've also selected a couple that I think would lend themselves well to sentiment analysis. I've also included some links to other sentiment lexicons you can find on Kaggle. Many are even for low-resource languages!"
   ]
  }
 ],
 "metadata": {
  "kernelspec": {
   "display_name": "R",
   "language": "R",
   "name": "ir"
  },
  "language_info": {
   "codemirror_mode": "r",
   "file_extension": ".r",
   "mimetype": "text/x-r-source",
   "name": "R",
   "pygments_lexer": "r",
   "version": "3.6.3"
  }
 },
 "nbformat": 4,
 "nbformat_minor": 4
}
